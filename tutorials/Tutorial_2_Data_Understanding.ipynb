{
 "cells": [
  {
   "cell_type": "markdown",
   "metadata": {},
   "source": [
    "# **Tutorial 2** - Understanding the PIRLS dataset"
   ]
  },
  {
   "cell_type": "markdown",
   "metadata": {},
   "source": [
    "Welcome in the next part of our tutorials for Global Data Science Challenge 2024. Today, we embark on a comprehensive exploration of our dataset for this year's GDSC, featuring the PIRLS 2021 dataset from UNESCO.\n",
    "\n",
    "This tutorial is structured into three primary components: a video, a website, and this notebook. To begin, I recommend watching the [PIRLS 2021 video](https://youtu.be/jUv1QowWmqI?feature=shared), which provides a solid foundation on what this study encompasses. Following the video, visit the [PIRLS 2021 website](https://pirls2021.org/) to delve deeper and discover additional information about the study. After engaging with these resources, you'll be well-prepared to navigate through this notebook.\n",
    "\n",
    "*If you're not watching our tutorial video and you are only reading this notebook, now is the perfect time watch [PIRLS 2021 video](https://youtu.be/jUv1QowWmqI?feature=shared) and browse through [PIRLS 2021 website](https://pirls2021.org/). Completing these steps is crucial for a thorough understanding of the study, which, in turn, will enhance your ability to follow along with the notebook. I strongly encourage you to familiarize yourself with the study before proceeding, to ensure a smooth and informed learning experience.*\n",
    "\n",
    "This notebook is crafted to showcase the complexity of SQL queries that LLMs (Large Language Models) will ingeniously construct to navigate the dataset's depths. Moreover, it's designed to empower you with strategies for independently discovering the data you find most compelling. By illustrating both the advanced SQL capabilities required by LLMs and guiding you on how to embark on your data exploration journey, we aim to provide a comprehensive understanding of effective query formulation."
   ]
  },
  {
   "cell_type": "markdown",
   "metadata": {},
   "source": [
    "## Agenda\n",
    "\n",
    "1. [Set up the environment](#set-up-the-environment) - Provides all the essential functions needed to configure the environment for developing and executing queries.\n",
    "\n",
    "2. [The database schema](#the-database-schema) - Describes this year's data structure of the relational database.\n",
    "    - [The database overview](#the-database-overview) - Offers a high-level overview of the database schema, explaining the organization and relationships between different tables.\n",
    "\n",
    "    - [Tables about student questionnaires](#tables-about-student-questionnaires) - Delves into the specifics of the tables related to student questionnaires.\n",
    "\n",
    "    - [Tables about student achievement scores](#tables-about-student-achievement-scores) - Explores the specifics of the tables related to student achievement scores:\n",
    "\n",
    "        - [Clarification - Student Score Entries](#clarification---student-score-entries) - Provides a detailed explanation of the `Student Score Entries` table, including the types of scores recorded and the significance of average and standard deviation metrics.\n",
    "\n",
    "        - [Clarification - Benchmarks](#clarification---benchmarks) - Explains the `Benchmarks` table, focusing on how benchmarks are set for different scores and what they indicate about student performance.\n",
    "    \n",
    "    - [Tables about school, home, and curriculum questionnaires](#tables-about-school-home-and-curriculum-questionnaires) - Highlights key points for the tables related to school, home, and curriculum questionnaires.\n",
    "\n",
    "    - [Table about teacher questionnaires](#table-about-teacher-questionnaire) - Highlights key points for the tables related to teacher questionnaires.\n",
    "        \n",
    "3. [Querying the database](#querying-the-database) - Demonstrates how to effectively extract meaningful insights from the database:\n",
    "    - [Show available tables](#show-available-tables),\n",
    "    \n",
    "    - [Show Countries](#show-countries),\n",
    "\n",
    "    - [Example graphs for visualizing data](#example-graphs-for-visualizing-data),\n",
    "\n",
    "    - [Example questions with SQL queries](#example-questions-with-sql-queries).\n",
    "  \n",
    "4. [Appendix](#appendix) - Additional resources\n",
    "\n",
    "    - [More example questions with SQL queries](#more-example-questions-with-sql-queries),\n",
    "\n",
    "    - [VS Code](#vs-code) - Shows how to set up a notebook in the VS Code IDE:\n",
    "\n",
    "        - [Data Wrangler](#data-wrangler) - Presents the VS Code extension and how to install it. This is optional but highly recommended.\n",
    "    "
   ]
  },
  {
   "cell_type": "markdown",
   "metadata": {},
   "source": [
    "## Set up the environment"
   ]
  },
  {
   "cell_type": "markdown",
   "metadata": {},
   "source": [
    "Firstly we install and import necessary modules."
   ]
  },
  {
   "cell_type": "code",
   "execution_count": 1,
   "metadata": {
    "tags": []
   },
   "outputs": [
    {
     "name": "stdout",
     "output_type": "stream",
     "text": [
      "Collecting psycopg2-binary\n",
      "  Downloading psycopg2_binary-2.9.9-cp38-cp38-win_amd64.whl (1.2 MB)\n",
      "     ---------------------------------------- 1.2/1.2 MB 10.4 MB/s eta 0:00:00\n",
      "Requirement already satisfied: pandas in c:\\users\\aberasat\\appdata\\local\\programs\\python\\python38\\lib\\site-packages (1.4.1)\n",
      "Collecting seaborn\n",
      "  Downloading seaborn-0.13.2-py3-none-any.whl (294 kB)\n",
      "     -------------------------------------- 294.9/294.9 KB 8.9 MB/s eta 0:00:00\n",
      "Requirement already satisfied: matplotlib in c:\\users\\aberasat\\appdata\\local\\programs\\python\\python38\\lib\\site-packages (3.5.1)\n",
      "Requirement already satisfied: pytz>=2020.1 in c:\\users\\aberasat\\appdata\\local\\programs\\python\\python38\\lib\\site-packages (from pandas) (2022.1)\n",
      "Requirement already satisfied: python-dateutil>=2.8.1 in c:\\users\\aberasat\\appdata\\local\\programs\\python\\python38\\lib\\site-packages (from pandas) (2.8.2)\n",
      "Requirement already satisfied: numpy>=1.18.5 in c:\\users\\aberasat\\appdata\\local\\programs\\python\\python38\\lib\\site-packages (from pandas) (1.22.3)\n",
      "Requirement already satisfied: pillow>=6.2.0 in c:\\users\\aberasat\\appdata\\local\\programs\\python\\python38\\lib\\site-packages (from matplotlib) (9.1.0)\n",
      "Requirement already satisfied: packaging>=20.0 in c:\\users\\aberasat\\appdata\\local\\programs\\python\\python38\\lib\\site-packages (from matplotlib) (21.3)\n",
      "Requirement already satisfied: fonttools>=4.22.0 in c:\\users\\aberasat\\appdata\\local\\programs\\python\\python38\\lib\\site-packages (from matplotlib) (4.31.2)\n",
      "Requirement already satisfied: cycler>=0.10 in c:\\users\\aberasat\\appdata\\local\\programs\\python\\python38\\lib\\site-packages (from matplotlib) (0.11.0)\n",
      "Requirement already satisfied: kiwisolver>=1.0.1 in c:\\users\\aberasat\\appdata\\local\\programs\\python\\python38\\lib\\site-packages (from matplotlib) (1.4.2)\n",
      "Requirement already satisfied: pyparsing>=2.2.1 in c:\\users\\aberasat\\appdata\\local\\programs\\python\\python38\\lib\\site-packages (from matplotlib) (3.0.7)\n",
      "Requirement already satisfied: six>=1.5 in c:\\users\\aberasat\\appdata\\local\\programs\\python\\python38\\lib\\site-packages (from python-dateutil>=2.8.1->pandas) (1.16.0)\n",
      "Installing collected packages: psycopg2-binary, seaborn\n",
      "Successfully installed psycopg2-binary-2.9.9 seaborn-0.13.2\n"
     ]
    },
    {
     "name": "stderr",
     "output_type": "stream",
     "text": [
      "WARNING: You are using pip version 22.0.4; however, version 24.2 is available.\n",
      "You should consider upgrading via the 'C:\\Users\\aberasat\\AppData\\Local\\Programs\\Python\\Python38\\python.exe -m pip install --upgrade pip' command.\n"
     ]
    }
   ],
   "source": [
    "# Installing necessary modules\n",
    "\n",
    "!pip install psycopg2-binary pandas seaborn matplotlib"
   ]
  },
  {
   "cell_type": "code",
   "execution_count": 2,
   "metadata": {
    "tags": []
   },
   "outputs": [],
   "source": [
    "import psycopg2 # module for connecting to a PostgreSQL database\n",
    "import pandas as pd  # module for data manipulation and analysis\n",
    "\n",
    "import seaborn as sns # library for visualization of data\n",
    "import matplotlib.pyplot as plt # library for visualization of data\n",
    "\n",
    "pd.set_option('display.max_colwidth', None) # display all the contents of a column"
   ]
  },
  {
   "cell_type": "code",
   "execution_count": 3,
   "metadata": {
    "tags": []
   },
   "outputs": [],
   "source": [
    "DB_ENDPOINT = 'gdsc-2024-public-uesco-cluster-instance-1.crqaeg62obh7.us-east-1.rds.amazonaws.com'\n",
    "DB_PORT = '5432'\n",
    "DB_USER = 'gdsc_participant'\n",
    "DB_PASSWORD ='gdsc!!24--*part'\n",
    "DB_NAME ='postgres'"
   ]
  },
  {
   "cell_type": "markdown",
   "metadata": {},
   "source": [
    "This section defines functions for database connectivity, query execution, and related operations. We'll use them later"
   ]
  },
  {
   "cell_type": "code",
   "execution_count": 4,
   "metadata": {
    "tags": []
   },
   "outputs": [],
   "source": [
    "def create_connection() -> psycopg2.extensions.connection:\n",
    "    \"\"\"\n",
    "    Creates a connection to the PostgreSQL database.\n",
    "\n",
    "    Returns:\n",
    "        psycopg2.extensions.connection: A connection object to the PostgreSQL database.\n",
    "    \"\"\"\n",
    "    return psycopg2.connect(\n",
    "        host=DB_ENDPOINT,\n",
    "        port=DB_PORT,\n",
    "        user=DB_USER,\n",
    "        password=DB_PASSWORD,\n",
    "        database=DB_NAME\n",
    "    )\n",
    "\n",
    "def get_from_db(connection: psycopg2.extensions.connection, query: str) -> pd.DataFrame:\n",
    "    \"\"\"\n",
    "    Executes the given SQL query on the provided database connection and returns the result as a pandas DataFrame.\n",
    "\n",
    "    Parameters:\n",
    "    connection (psycopg2.extensions.connection): The database connection object.\n",
    "    query (str): The SQL query to execute.\n",
    "\n",
    "    Returns:\n",
    "    pd.DataFrame: A pandas DataFrame containing the result of the query.\n",
    "\n",
    "    Raises:\n",
    "    psycopg2.Error: If there is an error executing the query.\n",
    "    \"\"\"\n",
    "    try:\n",
    "        with connection:\n",
    "            with connection.cursor() as cursor:\n",
    "                cursor.execute(query)\n",
    "                result = cursor.fetchall()\n",
    "                column_names = [desc[0] for desc in cursor.description]\n",
    "    except psycopg2.Error as e:\n",
    "        print(f\"Error executing query: {e}\")\n",
    "        return pd.DataFrame()\n",
    "\n",
    "    return pd.DataFrame(result, columns=column_names)"
   ]
  },
  {
   "cell_type": "markdown",
   "metadata": {},
   "source": [
    "We are almost done with setting up environment, but before our SQL journey begins, we need to establish a connection with the database."
   ]
  },
  {
   "cell_type": "code",
   "execution_count": 16,
   "metadata": {
    "tags": []
   },
   "outputs": [],
   "source": [
    "connection = create_connection()"
   ]
  },
  {
   "cell_type": "markdown",
   "metadata": {},
   "source": [
    "The code cell below serves as a test to verify that you have successfully established a connection with the database and are able to execute a data selection query. If it executes without any errors and displays a dataframe table, then your setup is correctly configured."
   ]
  },
  {
   "cell_type": "code",
   "execution_count": 6,
   "metadata": {
    "tags": []
   },
   "outputs": [
    {
     "data": {
      "text/html": [
       "<div>\n",
       "<style scoped>\n",
       "    .dataframe tbody tr th:only-of-type {\n",
       "        vertical-align: middle;\n",
       "    }\n",
       "\n",
       "    .dataframe tbody tr th {\n",
       "        vertical-align: top;\n",
       "    }\n",
       "\n",
       "    .dataframe thead th {\n",
       "        text-align: right;\n",
       "    }\n",
       "</style>\n",
       "<table border=\"1\" class=\"dataframe\">\n",
       "  <thead>\n",
       "    <tr style=\"text-align: right;\">\n",
       "      <th></th>\n",
       "      <th>country_id</th>\n",
       "      <th>code</th>\n",
       "      <th>name</th>\n",
       "      <th>benchmark</th>\n",
       "      <th>testtype</th>\n",
       "    </tr>\n",
       "  </thead>\n",
       "  <tbody>\n",
       "    <tr>\n",
       "      <th>0</th>\n",
       "      <td>36</td>\n",
       "      <td>AUS</td>\n",
       "      <td>Australia</td>\n",
       "      <td>False</td>\n",
       "      <td>paper</td>\n",
       "    </tr>\n",
       "    <tr>\n",
       "      <th>1</th>\n",
       "      <td>40</td>\n",
       "      <td>AUT</td>\n",
       "      <td>Austria</td>\n",
       "      <td>False</td>\n",
       "      <td>paper</td>\n",
       "    </tr>\n",
       "    <tr>\n",
       "      <th>2</th>\n",
       "      <td>31</td>\n",
       "      <td>AZE</td>\n",
       "      <td>Azerbaijan</td>\n",
       "      <td>False</td>\n",
       "      <td>paper</td>\n",
       "    </tr>\n",
       "    <tr>\n",
       "      <th>3</th>\n",
       "      <td>48</td>\n",
       "      <td>BHR</td>\n",
       "      <td>Bahrain</td>\n",
       "      <td>False</td>\n",
       "      <td>paper</td>\n",
       "    </tr>\n",
       "    <tr>\n",
       "      <th>4</th>\n",
       "      <td>956</td>\n",
       "      <td>BFL</td>\n",
       "      <td>Belgium (Flemish)</td>\n",
       "      <td>False</td>\n",
       "      <td>digital</td>\n",
       "    </tr>\n",
       "    <tr>\n",
       "      <th>...</th>\n",
       "      <td>...</td>\n",
       "      <td>...</td>\n",
       "      <td>...</td>\n",
       "      <td>...</td>\n",
       "      <td>...</td>\n",
       "    </tr>\n",
       "    <tr>\n",
       "      <th>60</th>\n",
       "      <td>926</td>\n",
       "      <td>ENG</td>\n",
       "      <td>United Kingdom</td>\n",
       "      <td>False</td>\n",
       "      <td>paper</td>\n",
       "    </tr>\n",
       "    <tr>\n",
       "      <th>61</th>\n",
       "      <td>7841</td>\n",
       "      <td>ADU</td>\n",
       "      <td>Dubai, United Arab Emirates</td>\n",
       "      <td>True</td>\n",
       "      <td>digital</td>\n",
       "    </tr>\n",
       "    <tr>\n",
       "      <th>62</th>\n",
       "      <td>7842</td>\n",
       "      <td>AAD</td>\n",
       "      <td>Abu Dhabi, United Arab Emirates</td>\n",
       "      <td>True</td>\n",
       "      <td>digital</td>\n",
       "    </tr>\n",
       "    <tr>\n",
       "      <th>63</th>\n",
       "      <td>8</td>\n",
       "      <td>ALB</td>\n",
       "      <td>Albania</td>\n",
       "      <td>False</td>\n",
       "      <td>paper</td>\n",
       "    </tr>\n",
       "    <tr>\n",
       "      <th>64</th>\n",
       "      <td>616</td>\n",
       "      <td>POL</td>\n",
       "      <td>Poland</td>\n",
       "      <td>False</td>\n",
       "      <td>paper</td>\n",
       "    </tr>\n",
       "  </tbody>\n",
       "</table>\n",
       "<p>65 rows × 5 columns</p>\n",
       "</div>"
      ],
      "text/plain": [
       "    country_id code                             name  benchmark testtype\n",
       "0           36  AUS                        Australia      False    paper\n",
       "1           40  AUT                          Austria      False    paper\n",
       "2           31  AZE                       Azerbaijan      False    paper\n",
       "3           48  BHR                          Bahrain      False    paper\n",
       "4          956  BFL                Belgium (Flemish)      False  digital\n",
       "..         ...  ...                              ...        ...      ...\n",
       "60         926  ENG                   United Kingdom      False    paper\n",
       "61        7841  ADU      Dubai, United Arab Emirates       True  digital\n",
       "62        7842  AAD  Abu Dhabi, United Arab Emirates       True  digital\n",
       "63           8  ALB                          Albania      False    paper\n",
       "64         616  POL                           Poland      False    paper\n",
       "\n",
       "[65 rows x 5 columns]"
      ]
     },
     "execution_count": 6,
     "metadata": {},
     "output_type": "execute_result"
    }
   ],
   "source": [
    "query_connection_check = '''\n",
    "        SELECT * FROM Countries\n",
    "'''\n",
    "query_connection_check_df = get_from_db(connection, query_connection_check)\n",
    "query_connection_check_df"
   ]
  },
  {
   "cell_type": "markdown",
   "metadata": {},
   "source": [
    "\n",
    "Phew, we've finally managed to configure our environment! Now, let's dive into the exciting part—exploring and playing with our database!"
   ]
  },
  {
   "cell_type": "markdown",
   "metadata": {},
   "source": [
    "## The Database Schema"
   ]
  },
  {
   "cell_type": "markdown",
   "metadata": {},
   "source": [
    "*I highly recommend opening the database schema in a separate window, so it's always within easy reach without the need to constantly scroll up and down.*"
   ]
  },
  {
   "cell_type": "markdown",
   "metadata": {},
   "source": [
    "### The database overview"
   ]
  },
  {
   "cell_type": "markdown",
   "metadata": {},
   "source": [
    "The dataset is pretty massive and quite complex. But fear not! We've done the heavy lifting for you and organized the data into a more convenient structure. We've uploaded the data to a relational database based on this schema. The database we're utilizing is hosted on AWS's cloud infrastructure, specifically utilizing Aurora. While it may seem daunting at first glance, the structure is actually quite straightforward and I will walk you through it step by step.\n",
    "\n",
    "As you can see, the diagram is quite colorful. Each color represents a different category of data collected in this dataset. We have sections dedicated to students, schools, teachers, homes, curricula, and much more. The structure for each section is quite similar to the others, so once you understand the data flow for one part, you shouldn't have any trouble understanding the rest.\n"
   ]
  },
  {
   "cell_type": "markdown",
   "metadata": {},
   "source": [
    "![title](../images/tutorial_2_db_schema.png)"
   ]
  },
  {
   "cell_type": "markdown",
   "metadata": {},
   "source": [
    "### Tables about student questionnaires"
   ]
  },
  {
   "cell_type": "markdown",
   "metadata": {},
   "source": [
    "Alright, let's start with the students, as they are the core of our study. To simplify things, we've divided the green section into smaller parts: one for the questionnaire and the other for students' achievement scores. Just to jog your memory, the questionnaire part contains data on answers to questions like \"What is your gender?\" and \"What do you think about school?\". The part about achievement scores contains data on students' results from tests measuring their reading skills.\n",
    "\n",
    "Every block in this diagram represents a table. `Students` is the main table for the whole dataset, so we will start with it. Each student in the `Students` table has a primary key **Student_ID** and several foreign keys, such as **Country_ID**, indicating the student's country of origin, **School_ID**, indicating the school the student attends, and **Home_ID**, indicating the student's parents or guardians.\n",
    "\n",
    "To understand more about each **Country_ID**, you can cross-reference it with the `Countries` table using the **Country_ID** key. In the `Countries` table, you'll find additional information such as the country's name, code, whether it's benchmarking, and the type of test in which the country participated.\n",
    "\n",
    "Data about student questionnaires are split into two tables. `Student Questionnaire Entries` table (questionnaire questions) consists of **Code**, which is the primary key for each particular question, **Question**, which is question itself, and **Type**, which provides additional info to help find questions of interest. `Student Questionnaire Answers` table (answers for questionnaire questions) also has **Code**, which indicates for which question this answer is. To identify unique element of this table it is necessary to use compound key which consist of **Student_ID** and question **Code**. Last field is **Answer** for that question. \n",
    "\n",
    "These free tables combined together make it possible to find answers to question of our interest for particular student. \n"
   ]
  },
  {
   "cell_type": "markdown",
   "metadata": {},
   "source": [
    "\n",
    "So if you want to check how student 51250010201 answered question ASBG01, you need to get the **Student_ID** for the student 51250010201 from table `Students` and get **Code** for question ASBG01 from table `Student Questionnaire Entries` then connect those two keys and look for the **Answer** from table `Student Questionnaire Answers`:\n",
    "\n",
    "```sql\n",
    "SELECT * FROM StudentQuestionnaireAnswers\n",
    "WHERE Student_ID = 51250010201 AND Code='ASBG01';\n",
    "```"
   ]
  },
  {
   "cell_type": "code",
   "execution_count": 17,
   "metadata": {
    "tags": []
   },
   "outputs": [
    {
     "data": {
      "text/html": [
       "<div>\n",
       "<style scoped>\n",
       "    .dataframe tbody tr th:only-of-type {\n",
       "        vertical-align: middle;\n",
       "    }\n",
       "\n",
       "    .dataframe tbody tr th {\n",
       "        vertical-align: top;\n",
       "    }\n",
       "\n",
       "    .dataframe thead th {\n",
       "        text-align: right;\n",
       "    }\n",
       "</style>\n",
       "<table border=\"1\" class=\"dataframe\">\n",
       "  <thead>\n",
       "    <tr style=\"text-align: right;\">\n",
       "      <th></th>\n",
       "      <th>student_id</th>\n",
       "      <th>code</th>\n",
       "      <th>answer</th>\n",
       "    </tr>\n",
       "  </thead>\n",
       "  <tbody>\n",
       "    <tr>\n",
       "      <th>0</th>\n",
       "      <td>51250010201</td>\n",
       "      <td>ASBG01</td>\n",
       "      <td>Boy</td>\n",
       "    </tr>\n",
       "  </tbody>\n",
       "</table>\n",
       "</div>"
      ],
      "text/plain": [
       "    student_id    code answer\n",
       "0  51250010201  ASBG01    Boy"
      ]
     },
     "execution_count": 17,
     "metadata": {},
     "output_type": "execute_result"
    }
   ],
   "source": [
    "query_demo_1 = '''\n",
    "        SELECT * FROM StudentQuestionnaireAnswers\n",
    "        WHERE Student_ID = 51250010201 AND Code='ASBG01';\n",
    "'''\n",
    "demo_1_df = get_from_db(connection, query_demo_1)\n",
    "demo_1_df"
   ]
  },
  {
   "cell_type": "markdown",
   "metadata": {},
   "source": [
    "In order to gather both questions and answers for every student, you can simply join the three relevant tables together like so\n",
    "\n",
    "```sql\n",
    "SELECT S.Student_ID, E.Code, E.Question, A.Answer, E.Type FROM Students AS S\n",
    "LEFT JOIN StudentQuestionnaireAnswers AS A ON S.Student_ID = A.Student_ID\n",
    "LEFT JOIN StudentQuestionnaireEntries AS E ON A.Code = E.Code\n",
    "LIMIT(750);\n",
    "```\n",
    "\n",
    "This query efficiently combines data from the `Students`, `StudentQuestionnaireAnswers`, and `StudentQuestionnaireEntries` tables. By using `LEFT JOINs`, it ensures that you get all students listed, even those who might not have any answers recorded. The ``LIMIT 750`` part is just there to keep the result set manageable by showing only the first 750 records."
   ]
  },
  {
   "cell_type": "code",
   "execution_count": 18,
   "metadata": {
    "tags": []
   },
   "outputs": [
    {
     "data": {
      "text/html": [
       "<div>\n",
       "<style scoped>\n",
       "    .dataframe tbody tr th:only-of-type {\n",
       "        vertical-align: middle;\n",
       "    }\n",
       "\n",
       "    .dataframe tbody tr th {\n",
       "        vertical-align: top;\n",
       "    }\n",
       "\n",
       "    .dataframe thead th {\n",
       "        text-align: right;\n",
       "    }\n",
       "</style>\n",
       "<table border=\"1\" class=\"dataframe\">\n",
       "  <thead>\n",
       "    <tr style=\"text-align: right;\">\n",
       "      <th></th>\n",
       "      <th>student_id</th>\n",
       "      <th>code</th>\n",
       "      <th>question</th>\n",
       "      <th>answer</th>\n",
       "      <th>type</th>\n",
       "    </tr>\n",
       "  </thead>\n",
       "  <tbody>\n",
       "    <tr>\n",
       "      <th>0</th>\n",
       "      <td>62050010602</td>\n",
       "      <td>ASBG01</td>\n",
       "      <td>Which of these describes you sex</td>\n",
       "      <td>Girl</td>\n",
       "      <td>About you</td>\n",
       "    </tr>\n",
       "    <tr>\n",
       "      <th>1</th>\n",
       "      <td>62050010602</td>\n",
       "      <td>ASBG03</td>\n",
       "      <td>How often do you speak &lt;language of test&gt; at home</td>\n",
       "      <td>I always speak &lt;language of test&gt; at home</td>\n",
       "      <td>About you</td>\n",
       "    </tr>\n",
       "    <tr>\n",
       "      <th>2</th>\n",
       "      <td>62050010602</td>\n",
       "      <td>ASBG04</td>\n",
       "      <td>About how many books are there in your home? (Do not count magazines, newspapers, or your school books.)</td>\n",
       "      <td>Enough to fill one shelf (11–25 books)</td>\n",
       "      <td>About you</td>\n",
       "    </tr>\n",
       "    <tr>\n",
       "      <th>3</th>\n",
       "      <td>62050010602</td>\n",
       "      <td>ASBG05A</td>\n",
       "      <td>(Do you have any of these things at your home) A shared computer or tablet that you can use</td>\n",
       "      <td>Yes</td>\n",
       "      <td>About you</td>\n",
       "    </tr>\n",
       "    <tr>\n",
       "      <th>4</th>\n",
       "      <td>62050010602</td>\n",
       "      <td>ASBG05B</td>\n",
       "      <td>(Do you have any of these things at your home) Study desk/table for your use</td>\n",
       "      <td>Yes</td>\n",
       "      <td>About you</td>\n",
       "    </tr>\n",
       "    <tr>\n",
       "      <th>...</th>\n",
       "      <td>...</td>\n",
       "      <td>...</td>\n",
       "      <td>...</td>\n",
       "      <td>...</td>\n",
       "      <td>...</td>\n",
       "    </tr>\n",
       "    <tr>\n",
       "      <th>745</th>\n",
       "      <td>62050010612</td>\n",
       "      <td>ASBR08B</td>\n",
       "      <td>(How well do you read? Tell how much you agree with each of these statements.) Reading is easy for me</td>\n",
       "      <td>Agree a little</td>\n",
       "      <td>What you think about reading</td>\n",
       "    </tr>\n",
       "    <tr>\n",
       "      <th>746</th>\n",
       "      <td>62050010612</td>\n",
       "      <td>ASBR08C</td>\n",
       "      <td>(How well do you read? Tell how much you agree with each of these statements.) I have trouble reading stories with difficult words</td>\n",
       "      <td>Agree a little</td>\n",
       "      <td>What you think about reading</td>\n",
       "    </tr>\n",
       "    <tr>\n",
       "      <th>747</th>\n",
       "      <td>62050010612</td>\n",
       "      <td>ASBR08D</td>\n",
       "      <td>(How well do you read? Tell how much you agree with each of these statements.) Reading is harder for me than for many of my classmates</td>\n",
       "      <td>Agree a little</td>\n",
       "      <td>What you think about reading</td>\n",
       "    </tr>\n",
       "    <tr>\n",
       "      <th>748</th>\n",
       "      <td>62050010612</td>\n",
       "      <td>ASBR08E</td>\n",
       "      <td>(How well do you read? Tell how much you agree with each of these statements.) Reading is harder for me than any other subject</td>\n",
       "      <td>Disagree a lot</td>\n",
       "      <td>What you think about reading</td>\n",
       "    </tr>\n",
       "    <tr>\n",
       "      <th>749</th>\n",
       "      <td>62050010612</td>\n",
       "      <td>ASBR08F</td>\n",
       "      <td>(How well do you read? Tell how much you agree with each of these statements.) I am just not good at reading</td>\n",
       "      <td>Omitted or invalid</td>\n",
       "      <td>What you think about reading</td>\n",
       "    </tr>\n",
       "  </tbody>\n",
       "</table>\n",
       "<p>750 rows × 5 columns</p>\n",
       "</div>"
      ],
      "text/plain": [
       "      student_id     code  \\\n",
       "0    62050010602   ASBG01   \n",
       "1    62050010602   ASBG03   \n",
       "2    62050010602   ASBG04   \n",
       "3    62050010602  ASBG05A   \n",
       "4    62050010602  ASBG05B   \n",
       "..           ...      ...   \n",
       "745  62050010612  ASBR08B   \n",
       "746  62050010612  ASBR08C   \n",
       "747  62050010612  ASBR08D   \n",
       "748  62050010612  ASBR08E   \n",
       "749  62050010612  ASBR08F   \n",
       "\n",
       "                                                                                                                                   question  \\\n",
       "0                                                                                                          Which of these describes you sex   \n",
       "1                                                                                         How often do you speak <language of test> at home   \n",
       "2                                  About how many books are there in your home? (Do not count magazines, newspapers, or your school books.)   \n",
       "3                                               (Do you have any of these things at your home) A shared computer or tablet that you can use   \n",
       "4                                                              (Do you have any of these things at your home) Study desk/table for your use   \n",
       "..                                                                                                                                      ...   \n",
       "745                                   (How well do you read? Tell how much you agree with each of these statements.) Reading is easy for me   \n",
       "746      (How well do you read? Tell how much you agree with each of these statements.) I have trouble reading stories with difficult words   \n",
       "747  (How well do you read? Tell how much you agree with each of these statements.) Reading is harder for me than for many of my classmates   \n",
       "748          (How well do you read? Tell how much you agree with each of these statements.) Reading is harder for me than any other subject   \n",
       "749                            (How well do you read? Tell how much you agree with each of these statements.) I am just not good at reading   \n",
       "\n",
       "                                        answer                          type  \n",
       "0                                         Girl                     About you  \n",
       "1    I always speak <language of test> at home                     About you  \n",
       "2       Enough to fill one shelf (11–25 books)                     About you  \n",
       "3                                          Yes                     About you  \n",
       "4                                          Yes                     About you  \n",
       "..                                         ...                           ...  \n",
       "745                             Agree a little  What you think about reading  \n",
       "746                             Agree a little  What you think about reading  \n",
       "747                             Agree a little  What you think about reading  \n",
       "748                             Disagree a lot  What you think about reading  \n",
       "749                         Omitted or invalid  What you think about reading  \n",
       "\n",
       "[750 rows x 5 columns]"
      ]
     },
     "execution_count": 18,
     "metadata": {},
     "output_type": "execute_result"
    }
   ],
   "source": [
    "query_demo_2 = '''\n",
    "        SELECT S.Student_ID, E.Code, E.Question, A.Answer, E.Type FROM Students AS S\n",
    "        LEFT JOIN StudentQuestionnaireAnswers AS A ON S.Student_ID = A.Student_ID\n",
    "        LEFT JOIN StudentQuestionnaireEntries AS E ON A.Code = E.Code\n",
    "        LIMIT(750);\n",
    "'''\n",
    "demo_2_df = get_from_db(connection, query_demo_2)\n",
    "demo_2_df"
   ]
  },
  {
   "cell_type": "markdown",
   "metadata": {},
   "source": [
    "*Heads up! Some tables are packed with a ton of records. Hit them with a `SELECT * FROM` and you're asking for a kernel crash party. So, let's not. Always slap a `LIMIT` on your SQL queries, unless you're dead sure the table's as lightweight as `Countries`.*"
   ]
  },
  {
   "cell_type": "markdown",
   "metadata": {},
   "source": [
    "### Tables about student achievement scores"
   ]
  },
  {
   "cell_type": "markdown",
   "metadata": {},
   "source": [
    "Moving on to the next segment, we're diving into students' achievement scores. The twist here is that we're focusing on reading scores instead of questionnaire answers. The setup is pretty similar to what we've seen before. In the `StudentScoreEntries` table, you'll find the **Code** for each score, the **Name** of the score, and a **Type** field that gives you extra clues to pinpoint the scores you're really interested in. Over in the `StudentScoreResults` table, there's also a **Code**, which tells you which score the result belongs to. To uniquely identify records in this table, you'll need to use a combo of **Student_ID** and the score **Code**. And, of course, there's the **Score** field that shows the actual score.\n",
    "\n",
    "By meshing these three tables together, you can easily track down the reading score results for any student you're curious about."
   ]
  },
  {
   "cell_type": "markdown",
   "metadata": {},
   "source": [
    "So if you want to check how student 51250010201 performed on score ASRREA_avg, you need to get the **Student_ID** for the student 51250010201 from table `Students` and get **Code** for score ASRREA_avg from table `StudentScoreEntries` then connect those two keys and look for the **Score** from table `StudentScoreResults`. \n",
    "\n",
    "```sql\n",
    "SELECT * FROM StudentScoreResults\n",
    "WHERE Student_ID = 51250010201 AND Code='ASRREA_avg';\n",
    "```"
   ]
  },
  {
   "cell_type": "code",
   "execution_count": 9,
   "metadata": {
    "tags": []
   },
   "outputs": [
    {
     "data": {
      "text/html": [
       "<div>\n",
       "<style scoped>\n",
       "    .dataframe tbody tr th:only-of-type {\n",
       "        vertical-align: middle;\n",
       "    }\n",
       "\n",
       "    .dataframe tbody tr th {\n",
       "        vertical-align: top;\n",
       "    }\n",
       "\n",
       "    .dataframe thead th {\n",
       "        text-align: right;\n",
       "    }\n",
       "</style>\n",
       "<table border=\"1\" class=\"dataframe\">\n",
       "  <thead>\n",
       "    <tr style=\"text-align: right;\">\n",
       "      <th></th>\n",
       "      <th>student_id</th>\n",
       "      <th>code</th>\n",
       "      <th>score</th>\n",
       "    </tr>\n",
       "  </thead>\n",
       "  <tbody>\n",
       "    <tr>\n",
       "      <th>0</th>\n",
       "      <td>51250010201</td>\n",
       "      <td>ASRREA_avg</td>\n",
       "      <td>361.845158</td>\n",
       "    </tr>\n",
       "  </tbody>\n",
       "</table>\n",
       "</div>"
      ],
      "text/plain": [
       "    student_id        code       score\n",
       "0  51250010201  ASRREA_avg  361.845158"
      ]
     },
     "execution_count": 9,
     "metadata": {},
     "output_type": "execute_result"
    }
   ],
   "source": [
    "query_demo_3 = '''\n",
    "        SELECT * FROM StudentScoreResults\n",
    "        WHERE Student_ID = 51250010201 AND Code='ASRREA_avg';\n",
    "'''\n",
    "demo_3_df = get_from_db(connection, query_demo_3)\n",
    "demo_3_df"
   ]
  },
  {
   "cell_type": "markdown",
   "metadata": {},
   "source": [
    "*Note: If you're unsure about the meaning of these scores, don't worry—they will be explained in [the next section](#clarification---student-score-entries).*"
   ]
  },
  {
   "cell_type": "markdown",
   "metadata": {},
   "source": [
    "In order to gather both names of scores and score results for every student, you can simply join the three relevant tables together like so:\n",
    "\n",
    "```sql\n",
    "SELECT S.Student_ID, E.Code, E.Name, R.Score, E.Type FROM Students AS S\n",
    "LEFT JOIN StudentScoreResults AS R ON S.Student_ID = R.Student_ID\n",
    "LEFT JOIN StudentScoreEntries AS E ON R.Code = E.Code\n",
    "LIMIT(100);\n",
    "```\n",
    "\n",
    "This query is your golden ticket to fetching the student IDs, score codes, score names, the scores themselves, and the score types. We're using `LEFT JOINs` to make sure no student gets left behind, even if they don't have a score recorded. And we're keeping things light by only grabbing the first 100 rows."
   ]
  },
  {
   "cell_type": "code",
   "execution_count": 19,
   "metadata": {
    "tags": []
   },
   "outputs": [
    {
     "data": {
      "text/html": [
       "<div>\n",
       "<style scoped>\n",
       "    .dataframe tbody tr th:only-of-type {\n",
       "        vertical-align: middle;\n",
       "    }\n",
       "\n",
       "    .dataframe tbody tr th {\n",
       "        vertical-align: top;\n",
       "    }\n",
       "\n",
       "    .dataframe thead th {\n",
       "        text-align: right;\n",
       "    }\n",
       "</style>\n",
       "<table border=\"1\" class=\"dataframe\">\n",
       "  <thead>\n",
       "    <tr style=\"text-align: right;\">\n",
       "      <th></th>\n",
       "      <th>student_id</th>\n",
       "      <th>code</th>\n",
       "      <th>name</th>\n",
       "      <th>score</th>\n",
       "      <th>type</th>\n",
       "    </tr>\n",
       "  </thead>\n",
       "  <tbody>\n",
       "    <tr>\n",
       "      <th>0</th>\n",
       "      <td>850010101</td>\n",
       "      <td>ASRIIE_avg</td>\n",
       "      <td>Interpreting, Integrating and Evaluating (average)</td>\n",
       "      <td>590.190764</td>\n",
       "      <td>Comprehension Process</td>\n",
       "    </tr>\n",
       "    <tr>\n",
       "      <th>1</th>\n",
       "      <td>850010101</td>\n",
       "      <td>ASRIIE_std</td>\n",
       "      <td>Interpreting, Integrating and Evaluating (standard deviation)</td>\n",
       "      <td>56.102926</td>\n",
       "      <td>Comprehension Process</td>\n",
       "    </tr>\n",
       "    <tr>\n",
       "      <th>2</th>\n",
       "      <td>850010101</td>\n",
       "      <td>ASRINF_avg</td>\n",
       "      <td>Acquire and Use Information (average)</td>\n",
       "      <td>570.698342</td>\n",
       "      <td>Reading Purpose</td>\n",
       "    </tr>\n",
       "    <tr>\n",
       "      <th>3</th>\n",
       "      <td>850010101</td>\n",
       "      <td>ASRINF_std</td>\n",
       "      <td>Acquire and Use Information (standard deviation)</td>\n",
       "      <td>38.658939</td>\n",
       "      <td>Reading Purpose</td>\n",
       "    </tr>\n",
       "    <tr>\n",
       "      <th>4</th>\n",
       "      <td>850010101</td>\n",
       "      <td>ASRLIT_avg</td>\n",
       "      <td>Literary Experience (average)</td>\n",
       "      <td>575.896820</td>\n",
       "      <td>Reading Purpose</td>\n",
       "    </tr>\n",
       "    <tr>\n",
       "      <th>...</th>\n",
       "      <td>...</td>\n",
       "      <td>...</td>\n",
       "      <td>...</td>\n",
       "      <td>...</td>\n",
       "      <td>...</td>\n",
       "    </tr>\n",
       "    <tr>\n",
       "      <th>95</th>\n",
       "      <td>850010110</td>\n",
       "      <td>ASRLIT_std</td>\n",
       "      <td>Literary Experience (standard deviation)</td>\n",
       "      <td>51.495403</td>\n",
       "      <td>Reading Purpose</td>\n",
       "    </tr>\n",
       "    <tr>\n",
       "      <th>96</th>\n",
       "      <td>850010110</td>\n",
       "      <td>ASRREA_avg</td>\n",
       "      <td>Overall reading score (average)</td>\n",
       "      <td>569.400622</td>\n",
       "      <td>Reading Purpose and Comprehension Process</td>\n",
       "    </tr>\n",
       "    <tr>\n",
       "      <th>97</th>\n",
       "      <td>850010110</td>\n",
       "      <td>ASRREA_std</td>\n",
       "      <td>Overall reading score (standard deviation)</td>\n",
       "      <td>52.165494</td>\n",
       "      <td>Reading Purpose and Comprehension Process</td>\n",
       "    </tr>\n",
       "    <tr>\n",
       "      <th>98</th>\n",
       "      <td>850010110</td>\n",
       "      <td>ASRRSI_avg</td>\n",
       "      <td>Retrieving and Straightforward Inferencing (average)</td>\n",
       "      <td>556.596568</td>\n",
       "      <td>Comprehension Process</td>\n",
       "    </tr>\n",
       "    <tr>\n",
       "      <th>99</th>\n",
       "      <td>850010110</td>\n",
       "      <td>ASRRSI_std</td>\n",
       "      <td>Retrieving and Straightforward Inferencing (standard deviation)</td>\n",
       "      <td>64.532336</td>\n",
       "      <td>Comprehension Process</td>\n",
       "    </tr>\n",
       "  </tbody>\n",
       "</table>\n",
       "<p>100 rows × 5 columns</p>\n",
       "</div>"
      ],
      "text/plain": [
       "    student_id        code  \\\n",
       "0    850010101  ASRIIE_avg   \n",
       "1    850010101  ASRIIE_std   \n",
       "2    850010101  ASRINF_avg   \n",
       "3    850010101  ASRINF_std   \n",
       "4    850010101  ASRLIT_avg   \n",
       "..         ...         ...   \n",
       "95   850010110  ASRLIT_std   \n",
       "96   850010110  ASRREA_avg   \n",
       "97   850010110  ASRREA_std   \n",
       "98   850010110  ASRRSI_avg   \n",
       "99   850010110  ASRRSI_std   \n",
       "\n",
       "                                                               name  \\\n",
       "0                Interpreting, Integrating and Evaluating (average)   \n",
       "1     Interpreting, Integrating and Evaluating (standard deviation)   \n",
       "2                             Acquire and Use Information (average)   \n",
       "3                  Acquire and Use Information (standard deviation)   \n",
       "4                                     Literary Experience (average)   \n",
       "..                                                              ...   \n",
       "95                         Literary Experience (standard deviation)   \n",
       "96                                  Overall reading score (average)   \n",
       "97                       Overall reading score (standard deviation)   \n",
       "98             Retrieving and Straightforward Inferencing (average)   \n",
       "99  Retrieving and Straightforward Inferencing (standard deviation)   \n",
       "\n",
       "         score                                       type  \n",
       "0   590.190764                      Comprehension Process  \n",
       "1    56.102926                      Comprehension Process  \n",
       "2   570.698342                            Reading Purpose  \n",
       "3    38.658939                            Reading Purpose  \n",
       "4   575.896820                            Reading Purpose  \n",
       "..         ...                                        ...  \n",
       "95   51.495403                            Reading Purpose  \n",
       "96  569.400622  Reading Purpose and Comprehension Process  \n",
       "97   52.165494  Reading Purpose and Comprehension Process  \n",
       "98  556.596568                      Comprehension Process  \n",
       "99   64.532336                      Comprehension Process  \n",
       "\n",
       "[100 rows x 5 columns]"
      ]
     },
     "execution_count": 19,
     "metadata": {},
     "output_type": "execute_result"
    }
   ],
   "source": [
    "query_demo_4 = '''\n",
    "        SELECT S.Student_ID, E.Code, E.Name, R.Score, E.Type FROM Students AS S\n",
    "        LEFT JOIN StudentScoreResults AS R ON S.Student_ID = R.Student_ID\n",
    "        LEFT JOIN StudentScoreEntries AS E ON R.Code = E.Code\n",
    "        LIMIT(100);\n",
    "'''\n",
    "demo_4_df = get_from_db(connection, query_demo_4)\n",
    "demo_4_df"
   ]
  },
  {
   "cell_type": "markdown",
   "metadata": {},
   "source": [
    "Told ya! Once you've got the first part down, everything else is smooth sailing!"
   ]
  },
  {
   "cell_type": "markdown",
   "metadata": {},
   "source": [
    "#### Clarification - Student Score Entries"
   ]
  },
  {
   "cell_type": "markdown",
   "metadata": {},
   "source": [
    "This section is an ideal place to clarify the contents of the `Student Score Entries table`, as its details might not be immediately intuitive. Let's dive in. To ensure complete clarity, we'll begin by displaying the table content with an SQL query."
   ]
  },
  {
   "cell_type": "code",
   "execution_count": 11,
   "metadata": {
    "tags": []
   },
   "outputs": [
    {
     "data": {
      "text/html": [
       "<div>\n",
       "<style scoped>\n",
       "    .dataframe tbody tr th:only-of-type {\n",
       "        vertical-align: middle;\n",
       "    }\n",
       "\n",
       "    .dataframe tbody tr th {\n",
       "        vertical-align: top;\n",
       "    }\n",
       "\n",
       "    .dataframe thead th {\n",
       "        text-align: right;\n",
       "    }\n",
       "</style>\n",
       "<table border=\"1\" class=\"dataframe\">\n",
       "  <thead>\n",
       "    <tr style=\"text-align: right;\">\n",
       "      <th></th>\n",
       "      <th>code</th>\n",
       "      <th>name</th>\n",
       "      <th>type</th>\n",
       "    </tr>\n",
       "  </thead>\n",
       "  <tbody>\n",
       "    <tr>\n",
       "      <th>0</th>\n",
       "      <td>ASRREA_avg</td>\n",
       "      <td>Overall reading score (average)</td>\n",
       "      <td>Reading Purpose and Comprehension Process</td>\n",
       "    </tr>\n",
       "    <tr>\n",
       "      <th>1</th>\n",
       "      <td>ASRREA_std</td>\n",
       "      <td>Overall reading score (standard deviation)</td>\n",
       "      <td>Reading Purpose and Comprehension Process</td>\n",
       "    </tr>\n",
       "    <tr>\n",
       "      <th>2</th>\n",
       "      <td>ASRLIT_avg</td>\n",
       "      <td>Literary Experience (average)</td>\n",
       "      <td>Reading Purpose</td>\n",
       "    </tr>\n",
       "    <tr>\n",
       "      <th>3</th>\n",
       "      <td>ASRLIT_std</td>\n",
       "      <td>Literary Experience (standard deviation)</td>\n",
       "      <td>Reading Purpose</td>\n",
       "    </tr>\n",
       "    <tr>\n",
       "      <th>4</th>\n",
       "      <td>ASRINF_avg</td>\n",
       "      <td>Acquire and Use Information (average)</td>\n",
       "      <td>Reading Purpose</td>\n",
       "    </tr>\n",
       "    <tr>\n",
       "      <th>5</th>\n",
       "      <td>ASRINF_std</td>\n",
       "      <td>Acquire and Use Information (standard deviation)</td>\n",
       "      <td>Reading Purpose</td>\n",
       "    </tr>\n",
       "    <tr>\n",
       "      <th>6</th>\n",
       "      <td>ASRIIE_avg</td>\n",
       "      <td>Interpreting, Integrating and Evaluating (average)</td>\n",
       "      <td>Comprehension Process</td>\n",
       "    </tr>\n",
       "    <tr>\n",
       "      <th>7</th>\n",
       "      <td>ASRIIE_std</td>\n",
       "      <td>Interpreting, Integrating and Evaluating (standard deviation)</td>\n",
       "      <td>Comprehension Process</td>\n",
       "    </tr>\n",
       "    <tr>\n",
       "      <th>8</th>\n",
       "      <td>ASRRSI_avg</td>\n",
       "      <td>Retrieving and Straightforward Inferencing (average)</td>\n",
       "      <td>Comprehension Process</td>\n",
       "    </tr>\n",
       "    <tr>\n",
       "      <th>9</th>\n",
       "      <td>ASRRSI_std</td>\n",
       "      <td>Retrieving and Straightforward Inferencing (standard deviation)</td>\n",
       "      <td>Comprehension Process</td>\n",
       "    </tr>\n",
       "  </tbody>\n",
       "</table>\n",
       "</div>"
      ],
      "text/plain": [
       "         code  \\\n",
       "0  ASRREA_avg   \n",
       "1  ASRREA_std   \n",
       "2  ASRLIT_avg   \n",
       "3  ASRLIT_std   \n",
       "4  ASRINF_avg   \n",
       "5  ASRINF_std   \n",
       "6  ASRIIE_avg   \n",
       "7  ASRIIE_std   \n",
       "8  ASRRSI_avg   \n",
       "9  ASRRSI_std   \n",
       "\n",
       "                                                              name  \\\n",
       "0                                  Overall reading score (average)   \n",
       "1                       Overall reading score (standard deviation)   \n",
       "2                                    Literary Experience (average)   \n",
       "3                         Literary Experience (standard deviation)   \n",
       "4                            Acquire and Use Information (average)   \n",
       "5                 Acquire and Use Information (standard deviation)   \n",
       "6               Interpreting, Integrating and Evaluating (average)   \n",
       "7    Interpreting, Integrating and Evaluating (standard deviation)   \n",
       "8             Retrieving and Straightforward Inferencing (average)   \n",
       "9  Retrieving and Straightforward Inferencing (standard deviation)   \n",
       "\n",
       "                                        type  \n",
       "0  Reading Purpose and Comprehension Process  \n",
       "1  Reading Purpose and Comprehension Process  \n",
       "2                            Reading Purpose  \n",
       "3                            Reading Purpose  \n",
       "4                            Reading Purpose  \n",
       "5                            Reading Purpose  \n",
       "6                      Comprehension Process  \n",
       "7                      Comprehension Process  \n",
       "8                      Comprehension Process  \n",
       "9                      Comprehension Process  "
      ]
     },
     "execution_count": 11,
     "metadata": {},
     "output_type": "execute_result"
    }
   ],
   "source": [
    "query_score_entries = '''\n",
    "        SELECT * FROM StudentScoreEntries;\n",
    "'''\n",
    "score_entries_df = get_from_db(connection, query_score_entries)\n",
    "score_entries_df"
   ]
  },
  {
   "cell_type": "markdown",
   "metadata": {},
   "source": [
    "If you're puzzled by those unusual abbreviations, don't worry, everything will be clear in a minute.\n",
    "\n",
    "The test was segmented into four distinct sections, each designed to assess a different reading skill set:\n",
    "- **Literary Experience** (ASRLIT)\n",
    "- **Acquire and Use Information** (ASRINF)\n",
    "- **Interpreting, Integrating and Evaluating** (ASRIIE)\n",
    "- **Retrieving and Straightforward Inferencing** (ASRRSI)\n",
    "\n",
    "To evaluate these skills, four specific scores are calculated, with each score reflecting performance in a particular area of the test. There is also a fifth score **Overall Reading Score (ASRREA)**  that aggregates the overall performance across the entire test, primarily used to gauge a student's reading ability. Typically, you'll rely on this **Overall Reading Score** to determine a student's reading capabilities, meaning initially, you may not need to concentrate as much on the other four scores.\n",
    "\n",
    "Each score is associated with two critical metrics: the average and the standard deviation. The average score distills the complex outcomes of the test into a single, more comprehensible value. Thus, the average should be viewed as a straightforward indicator of a student's result for either the entire test or a specific part of it. The standard deviation, on the other hand, quantifies the variability in scores, providing insight into the consistency of a student's performance.\n",
    "\n",
    "There is also a **Type** column indicating whether a score focuses on assessing a skill related to reading purpose or is more focused on the comprehension process."
   ]
  },
  {
   "cell_type": "markdown",
   "metadata": {},
   "source": [
    "#### Clarification - Benchmarks"
   ]
  },
  {
   "cell_type": "markdown",
   "metadata": {},
   "source": [
    "Additionally we have a table `Benchmarks` which is not connected to any other table but it stores data about benchmarks in PIRLS study. "
   ]
  },
  {
   "cell_type": "code",
   "execution_count": 20,
   "metadata": {
    "tags": []
   },
   "outputs": [
    {
     "data": {
      "text/html": [
       "<div>\n",
       "<style scoped>\n",
       "    .dataframe tbody tr th:only-of-type {\n",
       "        vertical-align: middle;\n",
       "    }\n",
       "\n",
       "    .dataframe tbody tr th {\n",
       "        vertical-align: top;\n",
       "    }\n",
       "\n",
       "    .dataframe thead th {\n",
       "        text-align: right;\n",
       "    }\n",
       "</style>\n",
       "<table border=\"1\" class=\"dataframe\">\n",
       "  <thead>\n",
       "    <tr style=\"text-align: right;\">\n",
       "      <th></th>\n",
       "      <th>benchmark_id</th>\n",
       "      <th>score</th>\n",
       "      <th>name</th>\n",
       "    </tr>\n",
       "  </thead>\n",
       "  <tbody>\n",
       "    <tr>\n",
       "      <th>0</th>\n",
       "      <td>1</td>\n",
       "      <td>400</td>\n",
       "      <td>Low International Benchmark</td>\n",
       "    </tr>\n",
       "    <tr>\n",
       "      <th>1</th>\n",
       "      <td>2</td>\n",
       "      <td>475</td>\n",
       "      <td>Intermediate International Benchmark</td>\n",
       "    </tr>\n",
       "    <tr>\n",
       "      <th>2</th>\n",
       "      <td>3</td>\n",
       "      <td>550</td>\n",
       "      <td>High International Benchmark</td>\n",
       "    </tr>\n",
       "    <tr>\n",
       "      <th>3</th>\n",
       "      <td>4</td>\n",
       "      <td>625</td>\n",
       "      <td>Advanced International Benchmark</td>\n",
       "    </tr>\n",
       "  </tbody>\n",
       "</table>\n",
       "</div>"
      ],
      "text/plain": [
       "   benchmark_id  score                                  name\n",
       "0             1    400           Low International Benchmark\n",
       "1             2    475  Intermediate International Benchmark\n",
       "2             3    550          High International Benchmark\n",
       "3             4    625      Advanced International Benchmark"
      ]
     },
     "execution_count": 20,
     "metadata": {},
     "output_type": "execute_result"
    }
   ],
   "source": [
    "query_benchmarks = '''\n",
    "        SELECT * FROM Benchmarks;\n",
    "'''\n",
    "benchmarks_df = get_from_db(connection, query_benchmarks)\n",
    "benchmarks_df"
   ]
  },
  {
   "cell_type": "markdown",
   "metadata": {},
   "source": [
    "A benchmark is essentially a marker or a standard used to measure something - in this case, reading abilities. Think of it as the minimum score you need to reach a certain level. It's like a ladder: if you reach the top rung (the highest benchmark), you've also stepped on all the rungs below it. So, if a student scores an average of 700 on the ASRREA test, they've not only hit the top mark, the Advanced International Benchmark, but they've also automatically met the criteria for the Low, Intermediate, and High benchmarks. It's a way of saying:\n",
    "> \"If you're good enough for the top, you're definitely good enough for the levels leading up to it.\""
   ]
  },
  {
   "cell_type": "markdown",
   "metadata": {},
   "source": [
    "### Tables about school, home and curriculum questionnaires"
   ]
  },
  {
   "cell_type": "markdown",
   "metadata": {},
   "source": [
    "I'll spare you the detailed explanation of the table structures but highlight a couple of key points for navigating the data:\n",
    "- Every variable_ID such as **School_ID**, **Home_ID** etc. are consistent across all tables, allowing for direct connections, such as from the `Student` table to the `School Questionnaire Answers`.\n",
    "- **Curriculum_ID** and **Country_ID** are interchangeable, enabling direct links from the `Student` table to the `Curricula Questionnaire Answers` using just the **Country_ID**."
   ]
  },
  {
   "cell_type": "markdown",
   "metadata": {},
   "source": [
    "### Table about teacher questionnaire\n",
    "\n",
    "The `Teacher Questionnaire Answers` table stands out as the only one that does not offer a direct connection from the `Students` table. This is because a student may have multiple teachers, making a direct link impractical in this context."
   ]
  },
  {
   "cell_type": "markdown",
   "metadata": {},
   "source": [
    "### Key Insights\n",
    "\n",
    "- **Complex Database Structure**: The database's complexity underscores the importance of grasping its structure and relationships. Familiarizing yourself with its intricacies is key to navigating and utilizing it effectively.\n",
    "\n",
    "- **Large Datasets**: Some tables contain a vast number of records, indicating a rich dataset that could provide comprehensive insights but may also require efficient querying techniques to manage effectively.\n",
    "\n",
    "- **Varied Questionnaire Responses**: The database accommodates diverse types of responses to questionnaire questions, highlighting the need for flexible data handling and analysis strategies to interpret these varied data points accurately.\n",
    "\n",
    "- **Isolated Benchmark Table**: The benchmark table stands alone, not directly linked to other tables.\n",
    "\n",
    "- **SQL Queries for Data Retrieval**: To extract information, leveraging SQL queries with commands like `JOIN` and `WHERE` is essential. This approach allows for the combination and filtering of data across tables to meet specific analysis needs.\n",
    "\n",
    "- **Focus on ASSREA_avg Score**: The ASSREA_avg score, representing the average overall reading score, is a primary metric for assessing student reading abilities. This focus underscores the importance of literacy metrics in evaluating educational outcomes."
   ]
  },
  {
   "cell_type": "markdown",
   "metadata": {},
   "source": [
    "### Exercises\n",
    "\n",
    "Here's a practical exercise to enhance your skills in querying information from the database with SQL. The objective is to locate a specific question of interest and gather all unique responses to it. Follow the guided steps below:\n",
    "\n",
    "1. **Retrieve COVID-19 Related Records**: Start by fetching entries from the `School Questionnaire Entries` table that are associated with the **COVID-19 Pandemic**. This step helps narrow down our focus to pandemic-related questions.\n",
    "\n",
    "2. **Identify the Relevant Question Code**: After reviewing the questions retrieved in the previous step, identify and note the **Code** for the question that inquires about the number of weeks normal primary school operations were impacted by the COVID-19 Pandemic. This code will be crucial for filtering responses in the next steps.\n",
    "\n",
    "3. **Filter Responses by Question Code**: With the question code in hand, proceed to filter records in the `School Questionnaire Answers` table. Ensure you're only selecting entries that respond to our identified question regarding the pandemic's impact on school operations.\n",
    "\n",
    "4. **Extract Unique Answers**: For the final step, refine your query to return only distinct values of **Answer** column from the filtered responses. This will provide a clear view of all unique answers given to the question, offering insights into the varied impacts of the pandemic on schools.\n",
    "\n",
    "By completing these steps, you'll gain valuable practice in extracting and analyzing specific data points from a complex database, enhancing your SQL querying skills."
   ]
  },
  {
   "cell_type": "code",
   "execution_count": null,
   "metadata": {},
   "outputs": [],
   "source": [
    "query_exercise = '''\n",
    "        Here is the place for your sql query\n",
    "'''\n",
    "# Uncomment the lines below to check if your query is working properly\n",
    "\n",
    "# exercise_df = get_from_db(connection, query_exercise)\n",
    "# exercise_df"
   ]
  },
  {
   "cell_type": "markdown",
   "metadata": {},
   "source": [
    "## Querying the database"
   ]
  },
  {
   "cell_type": "markdown",
   "metadata": {},
   "source": [
    "In this tutorial, we're not going to walk through every table's content. Instead, we're arming you with the tools to dig out the gems that spark your interest. Go ahead, tweak our code, throw in your queries, jazz it up with your markdowns - make it yours. And hey, if there's a little voice in your head worrying about messing things up, just clone this notebook and experiment away. No stress!"
   ]
  },
  {
   "cell_type": "markdown",
   "metadata": {},
   "source": [
    "### Show available tables"
   ]
  },
  {
   "cell_type": "markdown",
   "metadata": {},
   "source": [
    "Here is a listing of all tables within our database schema, including a count of the number of rows present in each table."
   ]
  },
  {
   "cell_type": "code",
   "execution_count": 23,
   "metadata": {
    "tags": []
   },
   "outputs": [
    {
     "data": {
      "text/html": [
       "<div>\n",
       "<style scoped>\n",
       "    .dataframe tbody tr th:only-of-type {\n",
       "        vertical-align: middle;\n",
       "    }\n",
       "\n",
       "    .dataframe tbody tr th {\n",
       "        vertical-align: top;\n",
       "    }\n",
       "\n",
       "    .dataframe thead th {\n",
       "        text-align: right;\n",
       "    }\n",
       "</style>\n",
       "<table border=\"1\" class=\"dataframe\">\n",
       "  <thead>\n",
       "    <tr style=\"text-align: right;\">\n",
       "      <th></th>\n",
       "      <th>Table Name</th>\n",
       "      <th>Number of Rows</th>\n",
       "    </tr>\n",
       "  </thead>\n",
       "  <tbody>\n",
       "    <tr>\n",
       "      <th>2</th>\n",
       "      <td>benchmarks</td>\n",
       "      <td>4</td>\n",
       "    </tr>\n",
       "    <tr>\n",
       "      <th>19</th>\n",
       "      <td>studentscoreentries</td>\n",
       "      <td>10</td>\n",
       "    </tr>\n",
       "    <tr>\n",
       "      <th>0</th>\n",
       "      <td>curricula</td>\n",
       "      <td>60</td>\n",
       "    </tr>\n",
       "    <tr>\n",
       "      <th>13</th>\n",
       "      <td>countries</td>\n",
       "      <td>65</td>\n",
       "    </tr>\n",
       "    <tr>\n",
       "      <th>9</th>\n",
       "      <td>schoolquestionnaireentries</td>\n",
       "      <td>80</td>\n",
       "    </tr>\n",
       "    <tr>\n",
       "      <th>7</th>\n",
       "      <td>studentquestionnaireentries</td>\n",
       "      <td>80</td>\n",
       "    </tr>\n",
       "    <tr>\n",
       "      <th>1</th>\n",
       "      <td>homequestionnaireentries</td>\n",
       "      <td>87</td>\n",
       "    </tr>\n",
       "    <tr>\n",
       "      <th>16</th>\n",
       "      <td>curriculumquestionnaireentries</td>\n",
       "      <td>115</td>\n",
       "    </tr>\n",
       "    <tr>\n",
       "      <th>17</th>\n",
       "      <td>teacherquestionnaireentries</td>\n",
       "      <td>163</td>\n",
       "    </tr>\n",
       "    <tr>\n",
       "      <th>15</th>\n",
       "      <td>curriculumquestionnaireanswers</td>\n",
       "      <td>4800</td>\n",
       "    </tr>\n",
       "    <tr>\n",
       "      <th>14</th>\n",
       "      <td>schools</td>\n",
       "      <td>12327</td>\n",
       "    </tr>\n",
       "    <tr>\n",
       "      <th>3</th>\n",
       "      <td>teachers</td>\n",
       "      <td>19057</td>\n",
       "    </tr>\n",
       "    <tr>\n",
       "      <th>4</th>\n",
       "      <td>students</td>\n",
       "      <td>367575</td>\n",
       "    </tr>\n",
       "    <tr>\n",
       "      <th>10</th>\n",
       "      <td>homes</td>\n",
       "      <td>367575</td>\n",
       "    </tr>\n",
       "    <tr>\n",
       "      <th>12</th>\n",
       "      <td>studentteachers</td>\n",
       "      <td>368815</td>\n",
       "    </tr>\n",
       "    <tr>\n",
       "      <th>5</th>\n",
       "      <td>schoolquestionnaireanswers</td>\n",
       "      <td>892086</td>\n",
       "    </tr>\n",
       "    <tr>\n",
       "      <th>8</th>\n",
       "      <td>teacherquestionnaireanswers</td>\n",
       "      <td>2617834</td>\n",
       "    </tr>\n",
       "    <tr>\n",
       "      <th>18</th>\n",
       "      <td>studentscoreresults</td>\n",
       "      <td>3675750</td>\n",
       "    </tr>\n",
       "    <tr>\n",
       "      <th>11</th>\n",
       "      <td>homequestionnaireanswers</td>\n",
       "      <td>22801652</td>\n",
       "    </tr>\n",
       "    <tr>\n",
       "      <th>6</th>\n",
       "      <td>studentquestionnaireanswers</td>\n",
       "      <td>27321675</td>\n",
       "    </tr>\n",
       "  </tbody>\n",
       "</table>\n",
       "</div>"
      ],
      "text/plain": [
       "                        Table Name  Number of Rows\n",
       "2                       benchmarks               4\n",
       "19             studentscoreentries              10\n",
       "0                        curricula              60\n",
       "13                       countries              65\n",
       "9       schoolquestionnaireentries              80\n",
       "7      studentquestionnaireentries              80\n",
       "1         homequestionnaireentries              87\n",
       "16  curriculumquestionnaireentries             115\n",
       "17     teacherquestionnaireentries             163\n",
       "15  curriculumquestionnaireanswers            4800\n",
       "14                         schools           12327\n",
       "3                         teachers           19057\n",
       "4                         students          367575\n",
       "10                           homes          367575\n",
       "12                 studentteachers          368815\n",
       "5       schoolquestionnaireanswers          892086\n",
       "8      teacherquestionnaireanswers         2617834\n",
       "18             studentscoreresults         3675750\n",
       "11        homequestionnaireanswers        22801652\n",
       "6      studentquestionnaireanswers        27321675"
      ]
     },
     "execution_count": 23,
     "metadata": {},
     "output_type": "execute_result"
    }
   ],
   "source": [
    "query = '''\n",
    "        SELECT table_name FROM information_schema.tables\n",
    "        WHERE table_schema='public'\n",
    "        '''\n",
    "table_names_df = get_from_db(connection, query)\n",
    "\n",
    "# Initialize an empty list to store the results\n",
    "results = []\n",
    "\n",
    "# Iterate over the table names, count the rows, and append the results\n",
    "for table_name in table_names_df['table_name']:\n",
    "    count_query = f\"SELECT COUNT(*) as row_count FROM {table_name}\"\n",
    "    row_count_df = get_from_db(connection, count_query)\n",
    "    row_count = row_count_df.iloc[0]['row_count']\n",
    "    results.append({'Table Name': table_name, 'Number of Rows': row_count})\n",
    "\n",
    "# Convert the results into a DataFrame\n",
    "results_df = pd.DataFrame(results)\n",
    "results_df = results_df.sort_values(by='Number of Rows')\n",
    "\n",
    "# Display the DataFrame\n",
    "results_df"
   ]
  },
  {
   "cell_type": "markdown",
   "metadata": {},
   "source": [
    "Just like I hinted before, some of our tables are absolutely jam-packed with data. Take the `Student questionnaire answers` table, for example—it's a behemoth with almost 30 million rows! It's a clear sign of the massive amount of information we're playing with here."
   ]
  },
  {
   "cell_type": "markdown",
   "metadata": {},
   "source": [
    "### Show countries"
   ]
  },
  {
   "cell_type": "markdown",
   "metadata": {},
   "source": [
    "#### Structure of countries"
   ]
  },
  {
   "cell_type": "markdown",
   "metadata": {},
   "source": [
    "Here's a straightforward query example that reveals the columns in our table along with their data types.\n",
    "This simple query is quite useful for quickly understanding the structure of our table, including the types of data each column holds. It's a great starting point for getting familiar with our dataset."
   ]
  },
  {
   "cell_type": "code",
   "execution_count": 24,
   "metadata": {
    "tags": []
   },
   "outputs": [
    {
     "data": {
      "text/html": [
       "<div>\n",
       "<style scoped>\n",
       "    .dataframe tbody tr th:only-of-type {\n",
       "        vertical-align: middle;\n",
       "    }\n",
       "\n",
       "    .dataframe tbody tr th {\n",
       "        vertical-align: top;\n",
       "    }\n",
       "\n",
       "    .dataframe thead th {\n",
       "        text-align: right;\n",
       "    }\n",
       "</style>\n",
       "<table border=\"1\" class=\"dataframe\">\n",
       "  <thead>\n",
       "    <tr style=\"text-align: right;\">\n",
       "      <th></th>\n",
       "      <th>column_name</th>\n",
       "      <th>data_type</th>\n",
       "    </tr>\n",
       "  </thead>\n",
       "  <tbody>\n",
       "    <tr>\n",
       "      <th>0</th>\n",
       "      <td>country_id</td>\n",
       "      <td>integer</td>\n",
       "    </tr>\n",
       "    <tr>\n",
       "      <th>1</th>\n",
       "      <td>code</td>\n",
       "      <td>character varying</td>\n",
       "    </tr>\n",
       "    <tr>\n",
       "      <th>2</th>\n",
       "      <td>name</td>\n",
       "      <td>character varying</td>\n",
       "    </tr>\n",
       "    <tr>\n",
       "      <th>3</th>\n",
       "      <td>benchmark</td>\n",
       "      <td>boolean</td>\n",
       "    </tr>\n",
       "    <tr>\n",
       "      <th>4</th>\n",
       "      <td>testtype</td>\n",
       "      <td>character varying</td>\n",
       "    </tr>\n",
       "  </tbody>\n",
       "</table>\n",
       "</div>"
      ],
      "text/plain": [
       "  column_name          data_type\n",
       "0  country_id            integer\n",
       "1        code  character varying\n",
       "2        name  character varying\n",
       "3   benchmark            boolean\n",
       "4    testtype  character varying"
      ]
     },
     "execution_count": 24,
     "metadata": {},
     "output_type": "execute_result"
    }
   ],
   "source": [
    "query_countries_info = '''\n",
    "    SELECT column_name, data_type\n",
    "    FROM information_schema.columns\n",
    "    WHERE table_name = 'countries'\n",
    "    '''\n",
    "df_countries_info = get_from_db(connection, query_countries_info)\n",
    "df_countries_info"
   ]
  },
  {
   "cell_type": "markdown",
   "metadata": {},
   "source": [
    "#### Content of countries"
   ]
  },
  {
   "cell_type": "markdown",
   "metadata": {},
   "source": [
    "This snippet showcases the most basic query possible, designed to retrieve all information from a table. If you're interested in executing more complex queries, you'll find examples and further explanations in the subsequent sections."
   ]
  },
  {
   "cell_type": "code",
   "execution_count": 25,
   "metadata": {
    "tags": []
   },
   "outputs": [
    {
     "data": {
      "text/html": [
       "<div>\n",
       "<style scoped>\n",
       "    .dataframe tbody tr th:only-of-type {\n",
       "        vertical-align: middle;\n",
       "    }\n",
       "\n",
       "    .dataframe tbody tr th {\n",
       "        vertical-align: top;\n",
       "    }\n",
       "\n",
       "    .dataframe thead th {\n",
       "        text-align: right;\n",
       "    }\n",
       "</style>\n",
       "<table border=\"1\" class=\"dataframe\">\n",
       "  <thead>\n",
       "    <tr style=\"text-align: right;\">\n",
       "      <th></th>\n",
       "      <th>country_id</th>\n",
       "      <th>code</th>\n",
       "      <th>name</th>\n",
       "      <th>benchmark</th>\n",
       "      <th>testtype</th>\n",
       "    </tr>\n",
       "  </thead>\n",
       "  <tbody>\n",
       "    <tr>\n",
       "      <th>0</th>\n",
       "      <td>36</td>\n",
       "      <td>AUS</td>\n",
       "      <td>Australia</td>\n",
       "      <td>False</td>\n",
       "      <td>paper</td>\n",
       "    </tr>\n",
       "    <tr>\n",
       "      <th>1</th>\n",
       "      <td>40</td>\n",
       "      <td>AUT</td>\n",
       "      <td>Austria</td>\n",
       "      <td>False</td>\n",
       "      <td>paper</td>\n",
       "    </tr>\n",
       "    <tr>\n",
       "      <th>2</th>\n",
       "      <td>31</td>\n",
       "      <td>AZE</td>\n",
       "      <td>Azerbaijan</td>\n",
       "      <td>False</td>\n",
       "      <td>paper</td>\n",
       "    </tr>\n",
       "    <tr>\n",
       "      <th>3</th>\n",
       "      <td>48</td>\n",
       "      <td>BHR</td>\n",
       "      <td>Bahrain</td>\n",
       "      <td>False</td>\n",
       "      <td>paper</td>\n",
       "    </tr>\n",
       "    <tr>\n",
       "      <th>4</th>\n",
       "      <td>956</td>\n",
       "      <td>BFL</td>\n",
       "      <td>Belgium (Flemish)</td>\n",
       "      <td>False</td>\n",
       "      <td>digital</td>\n",
       "    </tr>\n",
       "    <tr>\n",
       "      <th>...</th>\n",
       "      <td>...</td>\n",
       "      <td>...</td>\n",
       "      <td>...</td>\n",
       "      <td>...</td>\n",
       "      <td>...</td>\n",
       "    </tr>\n",
       "    <tr>\n",
       "      <th>60</th>\n",
       "      <td>926</td>\n",
       "      <td>ENG</td>\n",
       "      <td>United Kingdom</td>\n",
       "      <td>False</td>\n",
       "      <td>paper</td>\n",
       "    </tr>\n",
       "    <tr>\n",
       "      <th>61</th>\n",
       "      <td>7841</td>\n",
       "      <td>ADU</td>\n",
       "      <td>Dubai, United Arab Emirates</td>\n",
       "      <td>True</td>\n",
       "      <td>digital</td>\n",
       "    </tr>\n",
       "    <tr>\n",
       "      <th>62</th>\n",
       "      <td>7842</td>\n",
       "      <td>AAD</td>\n",
       "      <td>Abu Dhabi, United Arab Emirates</td>\n",
       "      <td>True</td>\n",
       "      <td>digital</td>\n",
       "    </tr>\n",
       "    <tr>\n",
       "      <th>63</th>\n",
       "      <td>8</td>\n",
       "      <td>ALB</td>\n",
       "      <td>Albania</td>\n",
       "      <td>False</td>\n",
       "      <td>paper</td>\n",
       "    </tr>\n",
       "    <tr>\n",
       "      <th>64</th>\n",
       "      <td>616</td>\n",
       "      <td>POL</td>\n",
       "      <td>Poland</td>\n",
       "      <td>False</td>\n",
       "      <td>paper</td>\n",
       "    </tr>\n",
       "  </tbody>\n",
       "</table>\n",
       "<p>65 rows × 5 columns</p>\n",
       "</div>"
      ],
      "text/plain": [
       "    country_id code                             name  benchmark testtype\n",
       "0           36  AUS                        Australia      False    paper\n",
       "1           40  AUT                          Austria      False    paper\n",
       "2           31  AZE                       Azerbaijan      False    paper\n",
       "3           48  BHR                          Bahrain      False    paper\n",
       "4          956  BFL                Belgium (Flemish)      False  digital\n",
       "..         ...  ...                              ...        ...      ...\n",
       "60         926  ENG                   United Kingdom      False    paper\n",
       "61        7841  ADU      Dubai, United Arab Emirates       True  digital\n",
       "62        7842  AAD  Abu Dhabi, United Arab Emirates       True  digital\n",
       "63           8  ALB                          Albania      False    paper\n",
       "64         616  POL                           Poland      False    paper\n",
       "\n",
       "[65 rows x 5 columns]"
      ]
     },
     "execution_count": 25,
     "metadata": {},
     "output_type": "execute_result"
    }
   ],
   "source": [
    "query_countries = '''\n",
    "        SELECT * FROM Countries;\n",
    "        '''\n",
    "df_countries = get_from_db(connection, query_countries)\n",
    "df_countries"
   ]
  },
  {
   "cell_type": "markdown",
   "metadata": {},
   "source": [
    "The table reveals that the PIRLS 2021 study was truly a global initiative, with participation from 65 countries around the world. Additionally, it provides information on the types of tests that these countries participated in and much more."
   ]
  },
  {
   "cell_type": "markdown",
   "metadata": {},
   "source": [
    "### Example graphs for visualizing data"
   ]
  },
  {
   "cell_type": "markdown",
   "metadata": {},
   "source": [
    "Here are some example graphs to help you visualize data. Feel free to create your own graphs using data that interests you. This is a great opportunity to explore different datasets and uncover insights by experimenting with various types of visualizations, such as bar charts, line graphs, or scatter plots."
   ]
  },
  {
   "cell_type": "markdown",
   "metadata": {},
   "source": [
    "The first graph offers a glimpse into the distribution of the ASRREA_avg scores among all students who participated in the exam."
   ]
  },
  {
   "cell_type": "code",
   "execution_count": 26,
   "metadata": {
    "tags": []
   },
   "outputs": [
    {
     "data": {
      "text/html": [
       "<div>\n",
       "<style scoped>\n",
       "    .dataframe tbody tr th:only-of-type {\n",
       "        vertical-align: middle;\n",
       "    }\n",
       "\n",
       "    .dataframe tbody tr th {\n",
       "        vertical-align: top;\n",
       "    }\n",
       "\n",
       "    .dataframe thead th {\n",
       "        text-align: right;\n",
       "    }\n",
       "</style>\n",
       "<table border=\"1\" class=\"dataframe\">\n",
       "  <thead>\n",
       "    <tr style=\"text-align: right;\">\n",
       "      <th></th>\n",
       "      <th>student_id</th>\n",
       "      <th>score</th>\n",
       "    </tr>\n",
       "  </thead>\n",
       "  <tbody>\n",
       "    <tr>\n",
       "      <th>0</th>\n",
       "      <td>25050010201</td>\n",
       "      <td>603.433590</td>\n",
       "    </tr>\n",
       "    <tr>\n",
       "      <th>1</th>\n",
       "      <td>25050010207</td>\n",
       "      <td>523.169478</td>\n",
       "    </tr>\n",
       "    <tr>\n",
       "      <th>2</th>\n",
       "      <td>25050010214</td>\n",
       "      <td>516.115092</td>\n",
       "    </tr>\n",
       "    <tr>\n",
       "      <th>3</th>\n",
       "      <td>25050010220</td>\n",
       "      <td>600.243510</td>\n",
       "    </tr>\n",
       "    <tr>\n",
       "      <th>4</th>\n",
       "      <td>25050010309</td>\n",
       "      <td>530.848834</td>\n",
       "    </tr>\n",
       "    <tr>\n",
       "      <th>...</th>\n",
       "      <td>...</td>\n",
       "      <td>...</td>\n",
       "    </tr>\n",
       "    <tr>\n",
       "      <th>367570</th>\n",
       "      <td>34852070110</td>\n",
       "      <td>501.438244</td>\n",
       "    </tr>\n",
       "    <tr>\n",
       "      <th>367571</th>\n",
       "      <td>34852070115</td>\n",
       "      <td>551.837512</td>\n",
       "    </tr>\n",
       "    <tr>\n",
       "      <th>367572</th>\n",
       "      <td>34852070201</td>\n",
       "      <td>382.429576</td>\n",
       "    </tr>\n",
       "    <tr>\n",
       "      <th>367573</th>\n",
       "      <td>34852070203</td>\n",
       "      <td>553.321962</td>\n",
       "    </tr>\n",
       "    <tr>\n",
       "      <th>367574</th>\n",
       "      <td>34852070215</td>\n",
       "      <td>518.470610</td>\n",
       "    </tr>\n",
       "  </tbody>\n",
       "</table>\n",
       "<p>367575 rows × 2 columns</p>\n",
       "</div>"
      ],
      "text/plain": [
       "         student_id       score\n",
       "0       25050010201  603.433590\n",
       "1       25050010207  523.169478\n",
       "2       25050010214  516.115092\n",
       "3       25050010220  600.243510\n",
       "4       25050010309  530.848834\n",
       "...             ...         ...\n",
       "367570  34852070110  501.438244\n",
       "367571  34852070115  551.837512\n",
       "367572  34852070201  382.429576\n",
       "367573  34852070203  553.321962\n",
       "367574  34852070215  518.470610\n",
       "\n",
       "[367575 rows x 2 columns]"
      ]
     },
     "execution_count": 26,
     "metadata": {},
     "output_type": "execute_result"
    }
   ],
   "source": [
    "query_graph = '''\n",
    "    SELECT S.Student_ID, R.Score\n",
    "    FROM Students AS S\n",
    "    LEFT JOIN StudentScoreResults AS R ON S.Student_ID = R.Student_ID\n",
    "    LEFT JOIN StudentScoreEntries AS E ON R.Code = E.Code\n",
    "    WHERE E.Code = 'ASRREA_avg';\n",
    "'''\n",
    "\n",
    "df_graph = get_from_db(connection, query_graph)\n",
    "df_graph"
   ]
  },
  {
   "cell_type": "code",
   "execution_count": 27,
   "metadata": {
    "tags": []
   },
   "outputs": [
    {
     "data": {
      "image/png": "[encoded data removed]",
      "text/plain": [
       "<Figure size 1000x600 with 1 Axes>"
      ]
     },
     "metadata": {},
     "output_type": "display_data"
    }
   ],
   "source": [
    "plt.figure(figsize=(10, 6))  # Set the figure size for better readability\n",
    "plt.hist(df_graph['score'], bins=30, edgecolor='black')  # Adjust bins as needed\n",
    "plt.title('Distribution of Student Scores')\n",
    "plt.xlabel('ASRREA_avg')\n",
    "plt.ylabel('Count')\n",
    "plt.grid(True)\n",
    "plt.show()"
   ]
  },
  {
   "cell_type": "markdown",
   "metadata": {},
   "source": [
    "The graph illustrates that the most common range for students' overall reading scores falls between 500 and 600, with the median score hovering around approximately 550. This score places students within the High International Benchmark category, indicating a strong performance in reading comprehension on a global scale. However, a noticeable long left tail extends towards scores close to zero, highlighting that a subset of students performed poorly. This observation serves as a critical point for further investigation to understand the underlying reasons and identify the characteristics of students who scored at such low levels.\n"
   ]
  },
  {
   "cell_type": "markdown",
   "metadata": {},
   "source": [
    "The second graph gives us a peek at how students from 'Russian Federation', 'North Macedonia', 'Abu Dhabi, United Arab Emirates', and 'Morocco' are scoring on the ASRREA_avg. It's pretty cool to see that each country has its own unique pattern going on. This tells us that students in these places are experiencing education differently, maybe because of how schools do things or how much students get into their studies. Diving deeper into what makes each country's scores tick could shed some light on what's working (or not) in their education systems."
   ]
  },
  {
   "cell_type": "code",
   "execution_count": 28,
   "metadata": {
    "tags": []
   },
   "outputs": [
    {
     "data": {
      "text/html": [
       "<div>\n",
       "<style scoped>\n",
       "    .dataframe tbody tr th:only-of-type {\n",
       "        vertical-align: middle;\n",
       "    }\n",
       "\n",
       "    .dataframe tbody tr th {\n",
       "        vertical-align: top;\n",
       "    }\n",
       "\n",
       "    .dataframe thead th {\n",
       "        text-align: right;\n",
       "    }\n",
       "</style>\n",
       "<table border=\"1\" class=\"dataframe\">\n",
       "  <thead>\n",
       "    <tr style=\"text-align: right;\">\n",
       "      <th></th>\n",
       "      <th>student_id</th>\n",
       "      <th>name</th>\n",
       "      <th>score</th>\n",
       "    </tr>\n",
       "  </thead>\n",
       "  <tbody>\n",
       "    <tr>\n",
       "      <th>0</th>\n",
       "      <td>64350010101</td>\n",
       "      <td>Russian Federation</td>\n",
       "      <td>594.349886</td>\n",
       "    </tr>\n",
       "    <tr>\n",
       "      <th>1</th>\n",
       "      <td>64350010102</td>\n",
       "      <td>Russian Federation</td>\n",
       "      <td>605.772704</td>\n",
       "    </tr>\n",
       "    <tr>\n",
       "      <th>2</th>\n",
       "      <td>64350010103</td>\n",
       "      <td>Russian Federation</td>\n",
       "      <td>644.491004</td>\n",
       "    </tr>\n",
       "    <tr>\n",
       "      <th>3</th>\n",
       "      <td>64350010104</td>\n",
       "      <td>Russian Federation</td>\n",
       "      <td>553.867962</td>\n",
       "    </tr>\n",
       "    <tr>\n",
       "      <th>4</th>\n",
       "      <td>64350010105</td>\n",
       "      <td>Russian Federation</td>\n",
       "      <td>693.930072</td>\n",
       "    </tr>\n",
       "    <tr>\n",
       "      <th>...</th>\n",
       "      <td>...</td>\n",
       "      <td>...</td>\n",
       "      <td>...</td>\n",
       "    </tr>\n",
       "    <tr>\n",
       "      <th>25539</th>\n",
       "      <td>80751500106</td>\n",
       "      <td>North Macedonia</td>\n",
       "      <td>442.758864</td>\n",
       "    </tr>\n",
       "    <tr>\n",
       "      <th>25540</th>\n",
       "      <td>80751500107</td>\n",
       "      <td>North Macedonia</td>\n",
       "      <td>407.579456</td>\n",
       "    </tr>\n",
       "    <tr>\n",
       "      <th>25541</th>\n",
       "      <td>80751500108</td>\n",
       "      <td>North Macedonia</td>\n",
       "      <td>427.364480</td>\n",
       "    </tr>\n",
       "    <tr>\n",
       "      <th>25542</th>\n",
       "      <td>80751500109</td>\n",
       "      <td>North Macedonia</td>\n",
       "      <td>378.597754</td>\n",
       "    </tr>\n",
       "    <tr>\n",
       "      <th>25543</th>\n",
       "      <td>80751500110</td>\n",
       "      <td>North Macedonia</td>\n",
       "      <td>438.424748</td>\n",
       "    </tr>\n",
       "  </tbody>\n",
       "</table>\n",
       "<p>25544 rows × 3 columns</p>\n",
       "</div>"
      ],
      "text/plain": [
       "        student_id                name       score\n",
       "0      64350010101  Russian Federation  594.349886\n",
       "1      64350010102  Russian Federation  605.772704\n",
       "2      64350010103  Russian Federation  644.491004\n",
       "3      64350010104  Russian Federation  553.867962\n",
       "4      64350010105  Russian Federation  693.930072\n",
       "...            ...                 ...         ...\n",
       "25539  80751500106     North Macedonia  442.758864\n",
       "25540  80751500107     North Macedonia  407.579456\n",
       "25541  80751500108     North Macedonia  427.364480\n",
       "25542  80751500109     North Macedonia  378.597754\n",
       "25543  80751500110     North Macedonia  438.424748\n",
       "\n",
       "[25544 rows x 3 columns]"
      ]
     },
     "execution_count": 28,
     "metadata": {},
     "output_type": "execute_result"
    }
   ],
   "source": [
    "query_graph_countries = '''\n",
    "    SELECT S.Student_ID, C.Name, R.Score\n",
    "    FROM Students AS S\n",
    "    LEFT JOIN StudentScoreResults AS R ON S.Student_ID = R.Student_ID\n",
    "    LEFT JOIN StudentScoreEntries AS E ON R.Code = E.Code\n",
    "    LEFT JOIN Countries AS C ON S.Country_ID = C.Country_ID\n",
    "    WHERE E.Code = 'ASRREA_avg' AND C.Name IN ('Russian Federation', 'North Macedonia', 'Abu Dhabi, United Arab Emirates', 'Morocco');\n",
    "'''\n",
    "\n",
    "df_graph_countries = get_from_db(connection, query_graph_countries)\n",
    "df_graph_countries"
   ]
  },
  {
   "cell_type": "code",
   "execution_count": 29,
   "metadata": {
    "tags": []
   },
   "outputs": [
    {
     "data": {
      "image/png": "[encoded data removed]",
      "text/plain": [
       "<Figure size 1000x600 with 1 Axes>"
      ]
     },
     "metadata": {},
     "output_type": "display_data"
    }
   ],
   "source": [
    "plt.figure(figsize=(10, 6))  # Set the figure size for better readability\n",
    "sns.histplot(data=df_graph_countries, x='score', hue='name', bins=20, edgecolor='black', kde=True, palette='bright')\n",
    "plt.title('Distribution of Student Scores by Country')\n",
    "plt.xlabel('ASRREA_avg')\n",
    "plt.ylabel('Count')\n",
    "plt.grid(True)\n",
    "plt.tight_layout()  # Adjust the layout to make room for the legend, if necessary\n",
    "plt.show()"
   ]
  },
  {
   "cell_type": "markdown",
   "metadata": {},
   "source": [
    "From this graph, we observe that among this group of countries, students from the 'Russian Federation' have achieved very high scores, with only a few falling below the Low International Benchmark, while many have reached the Advanced Benchmark. For 'North Macedonia', the median score is slightly below the Intermediate Benchmark, indicating a moderate performance overall. In 'Abu Dhabi', the distribution of scores is bimodal, suggesting the presence of two distinct groups of students: one achieving scores at the level of the High International Benchmark and the other significantly below the Low International Benchmark. The poorest performing country is 'Morocco', with its median score falling below the Low International Benchmark, highlighting a need for targeted educational support and interventions to improve student outcomes.\n",
    "\n",
    "Graphs are powerful tools for uncovering fascinating insights, so I highly recommend creating your own and exploring various relationships within the data. Believe me, this dataset is a treasure trove of potential correlations waiting to be discovered through thorough exploration. Diving deep into the data can reveal patterns and connections that might not be immediately obvious, offering valuable perspectives for analysis and decision-making.\n"
   ]
  },
  {
   "cell_type": "markdown",
   "metadata": {},
   "source": [
    "### Example question with sql query"
   ]
  },
  {
   "cell_type": "markdown",
   "metadata": {},
   "source": [
    "Below is the example question that your solutions/Large Language Models (LLMs) will need to tackle throughout the challenge, accompanied by SQL query that your model will need to craft to return reliable answers. Developing the ability to construct such query is essential for verifying the accuracy and trustworthiness of your model's responses against the database. By participating in this part of tutorial, you'll not only deepen your understanding of the database's architecture but also sharpen your skills in formulating precise SQL queries.\n",
    "\n",
    "*Note: The [appendix](#more-example-questions-with-sql-queries) includes additional examples for further exploration at your own pace.*"
   ]
  },
  {
   "cell_type": "markdown",
   "metadata": {},
   "source": [
    "Let's break down the process of crafting a query to answer a specific question into several manageable steps. This structured approach will serve as a valuable template for you to efficiently develop your own queries in the future. Pay close attention to each step:\n",
    "\n",
    "1. **Question Analysis** - Begin by thoroughly reading the question. Reflect on its core objectives and the specific information it seeks from the database. Understanding the question's essence is crucial for determining the direction of your query.\n",
    "\n",
    "2. **Table Selection** - Once you have a clear understanding of the question, identify where the required information resides within the database. Determine which tables contain the relevant data and consider how they might need to interact to provide the answers you're looking for.\n",
    "\n",
    "3. **Query Development** - With the target tables identified, you can now focus on constructing the query. This step involves selecting the appropriate fields, specifying conditions, and possibly joining tables to extract the desired information. Depending on your proficiency with SQL, you may choose to build your query incrementally, testing each part as you go, or you might draft it in one go if you're more experienced.\n",
    "\n",
    "This methodical approach not only streamlines the query development process but also enhances your ability to tackle complex questions with confidence."
   ]
  },
  {
   "cell_type": "markdown",
   "metadata": {},
   "source": [
    "#### Which country had all schools closed for more than eight weeks?"
   ]
  },
  {
   "cell_type": "markdown",
   "metadata": {},
   "source": [
    "##### 1. **Question Analysis**\n",
    "The objective is to identify countries where all schools experienced closures for more than eight weeks due to the COVID-19 pandemic. This requires analyzing responses from the school questionnaire, specifically focusing on the question regarding the duration of disruptions to normal school operations.\n",
    "\n",
    "##### 2. **Table Selection**\n",
    "To extract the necessary information, we'll utilize the following tables:\n",
    "- `Countries`: Contains information about the countries that participated in PIRLS 2021,\n",
    "- `Schools`: Holds details about schools, including which country each school is located in,\n",
    "- `School questionnaire entries`: Stores questions from the school questionnaire,\n",
    "- `School questionnaire answers`: Contains the responses to the school questionnaire questions.\n",
    "\n",
    "##### 3. **Query Development**\n"
   ]
  },
  {
   "cell_type": "markdown",
   "metadata": {},
   "source": [
    "To find the question in the school questionnaire that is related to school closures, you can start by retrieving the available types of questions to narrow down your investigation. This can be done by querying the `SchoolQuestionnaireEntries` table to list the distinct types of questions. Here's the SQL query you can use:\n",
    "\n",
    "```sql\n",
    "SELECT DISTINCT Type FROM SchoolQuestionnaireEntries;\n",
    "```"
   ]
  },
  {
   "cell_type": "code",
   "execution_count": 30,
   "metadata": {
    "tags": []
   },
   "outputs": [
    {
     "data": {
      "text/html": [
       "<div>\n",
       "<style scoped>\n",
       "    .dataframe tbody tr th:only-of-type {\n",
       "        vertical-align: middle;\n",
       "    }\n",
       "\n",
       "    .dataframe tbody tr th {\n",
       "        vertical-align: top;\n",
       "    }\n",
       "\n",
       "    .dataframe thead th {\n",
       "        text-align: right;\n",
       "    }\n",
       "</style>\n",
       "<table border=\"1\" class=\"dataframe\">\n",
       "  <thead>\n",
       "    <tr style=\"text-align: right;\">\n",
       "      <th></th>\n",
       "      <th>type</th>\n",
       "    </tr>\n",
       "  </thead>\n",
       "  <tbody>\n",
       "    <tr>\n",
       "      <th>0</th>\n",
       "      <td>Instructional Time</td>\n",
       "    </tr>\n",
       "    <tr>\n",
       "      <th>1</th>\n",
       "      <td>Reading in Your School</td>\n",
       "    </tr>\n",
       "    <tr>\n",
       "      <th>2</th>\n",
       "      <td>School Emphasis on Academic Success</td>\n",
       "    </tr>\n",
       "    <tr>\n",
       "      <th>3</th>\n",
       "      <td>School Enrollment and Characteristics</td>\n",
       "    </tr>\n",
       "    <tr>\n",
       "      <th>4</th>\n",
       "      <td>Students’ Literacy Readiness</td>\n",
       "    </tr>\n",
       "    <tr>\n",
       "      <th>5</th>\n",
       "      <td>Principal Experience and Education</td>\n",
       "    </tr>\n",
       "    <tr>\n",
       "      <th>6</th>\n",
       "      <td>COVID-19 Pandemic</td>\n",
       "    </tr>\n",
       "    <tr>\n",
       "      <th>7</th>\n",
       "      <td>Resources and Technology</td>\n",
       "    </tr>\n",
       "    <tr>\n",
       "      <th>8</th>\n",
       "      <td>School Discipline and Safety</td>\n",
       "    </tr>\n",
       "  </tbody>\n",
       "</table>\n",
       "</div>"
      ],
      "text/plain": [
       "                                    type\n",
       "0                     Instructional Time\n",
       "1                 Reading in Your School\n",
       "2    School Emphasis on Academic Success\n",
       "3  School Enrollment and Characteristics\n",
       "4           Students’ Literacy Readiness\n",
       "5     Principal Experience and Education\n",
       "6                      COVID-19 Pandemic\n",
       "7               Resources and Technology\n",
       "8           School Discipline and Safety"
      ]
     },
     "execution_count": 30,
     "metadata": {},
     "output_type": "execute_result"
    }
   ],
   "source": [
    "query_types = '''\n",
    "    SELECT DISTINCT Type FROM SchoolQuestionnaireEntries;\n",
    "    '''\n",
    "df_types = get_from_db(connection, query_types)\n",
    "df_types"
   ]
  },
  {
   "cell_type": "markdown",
   "metadata": {},
   "source": [
    "Having identified 'COVID-19 Pandemic' as a relevant question type from the `SchoolQuestionnaireEntries` table, the next step involves examining the specific questions categorized under this type to select the most suitable one for our analysis. The SQL query below is designed to retrieve all questions related to the 'COVID-19 Pandemic':\n",
    "\n",
    "```sql\n",
    "SELECT * FROM SchoolQuestionnaireEntries\n",
    "WHERE Type = 'COVID-19 Pandemic';"
   ]
  },
  {
   "cell_type": "code",
   "execution_count": 31,
   "metadata": {
    "tags": []
   },
   "outputs": [
    {
     "data": {
      "text/html": [
       "<div>\n",
       "<style scoped>\n",
       "    .dataframe tbody tr th:only-of-type {\n",
       "        vertical-align: middle;\n",
       "    }\n",
       "\n",
       "    .dataframe tbody tr th {\n",
       "        vertical-align: top;\n",
       "    }\n",
       "\n",
       "    .dataframe thead th {\n",
       "        text-align: right;\n",
       "    }\n",
       "</style>\n",
       "<table border=\"1\" class=\"dataframe\">\n",
       "  <thead>\n",
       "    <tr style=\"text-align: right;\">\n",
       "      <th></th>\n",
       "      <th>code</th>\n",
       "      <th>question</th>\n",
       "      <th>type</th>\n",
       "    </tr>\n",
       "  </thead>\n",
       "  <tbody>\n",
       "    <tr>\n",
       "      <th>0</th>\n",
       "      <td>ACBG19</td>\n",
       "      <td>Please estimate the number of weeks during the current academic year where normal primary school operations have been affected by the COVID-19 pandemic.</td>\n",
       "      <td>COVID-19 Pandemic</td>\n",
       "    </tr>\n",
       "    <tr>\n",
       "      <th>1</th>\n",
       "      <td>ACBG20</td>\n",
       "      <td>Does your school provide remote instruction or distance learning resources for primary grades when normal school operations are affected by the COVID-19 pandemic?</td>\n",
       "      <td>COVID-19 Pandemic</td>\n",
       "    </tr>\n",
       "    <tr>\n",
       "      <th>2</th>\n",
       "      <td>ACBG21A</td>\n",
       "      <td>(When normal primary school operations are affected by the COVID-19 pandemic, does your school support remote learning through the following?) Delivery of printed learning materials to students</td>\n",
       "      <td>COVID-19 Pandemic</td>\n",
       "    </tr>\n",
       "    <tr>\n",
       "      <th>3</th>\n",
       "      <td>ACBG21B</td>\n",
       "      <td>(When normal primary school operations are affected by the COVID-19 pandemic, does your school support remote learning through the following?) Internet-based resources for students</td>\n",
       "      <td>COVID-19 Pandemic</td>\n",
       "    </tr>\n",
       "    <tr>\n",
       "      <th>4</th>\n",
       "      <td>ACBG21C</td>\n",
       "      <td>(When normal primary school operations are affected by the COVID-19 pandemic, does your school support remote learning through the following?) Access to digital devices for students</td>\n",
       "      <td>COVID-19 Pandemic</td>\n",
       "    </tr>\n",
       "    <tr>\n",
       "      <th>5</th>\n",
       "      <td>ACBG21D</td>\n",
       "      <td>(When normal primary school operations are affected by the COVID-19 pandemic, does your school support remote learning through the following?) Recommendations for teachers about how to provide online instruction</td>\n",
       "      <td>COVID-19 Pandemic</td>\n",
       "    </tr>\n",
       "    <tr>\n",
       "      <th>6</th>\n",
       "      <td>ACBG21E</td>\n",
       "      <td>(When normal primary school operations are affected by the COVID-19 pandemic, does your school support remote learning through the following?) Technical support for teachers</td>\n",
       "      <td>COVID-19 Pandemic</td>\n",
       "    </tr>\n",
       "    <tr>\n",
       "      <th>7</th>\n",
       "      <td>ACBG21F</td>\n",
       "      <td>(When normal primary school operations are affected by the COVID-19 pandemic, does your school support remote learning through the following?) Access to digital devices for teachers</td>\n",
       "      <td>COVID-19 Pandemic</td>\n",
       "    </tr>\n",
       "  </tbody>\n",
       "</table>\n",
       "</div>"
      ],
      "text/plain": [
       "      code  \\\n",
       "0   ACBG19   \n",
       "1   ACBG20   \n",
       "2  ACBG21A   \n",
       "3  ACBG21B   \n",
       "4  ACBG21C   \n",
       "5  ACBG21D   \n",
       "6  ACBG21E   \n",
       "7  ACBG21F   \n",
       "\n",
       "                                                                                                                                                                                                              question  \\\n",
       "0                                                             Please estimate the number of weeks during the current academic year where normal primary school operations have been affected by the COVID-19 pandemic.   \n",
       "1                                                   Does your school provide remote instruction or distance learning resources for primary grades when normal school operations are affected by the COVID-19 pandemic?   \n",
       "2                    (When normal primary school operations are affected by the COVID-19 pandemic, does your school support remote learning through the following?) Delivery of printed learning materials to students   \n",
       "3                                 (When normal primary school operations are affected by the COVID-19 pandemic, does your school support remote learning through the following?) Internet-based resources for students   \n",
       "4                                (When normal primary school operations are affected by the COVID-19 pandemic, does your school support remote learning through the following?) Access to digital devices for students   \n",
       "5  (When normal primary school operations are affected by the COVID-19 pandemic, does your school support remote learning through the following?) Recommendations for teachers about how to provide online instruction   \n",
       "6                                        (When normal primary school operations are affected by the COVID-19 pandemic, does your school support remote learning through the following?) Technical support for teachers   \n",
       "7                                (When normal primary school operations are affected by the COVID-19 pandemic, does your school support remote learning through the following?) Access to digital devices for teachers   \n",
       "\n",
       "                type  \n",
       "0  COVID-19 Pandemic  \n",
       "1  COVID-19 Pandemic  \n",
       "2  COVID-19 Pandemic  \n",
       "3  COVID-19 Pandemic  \n",
       "4  COVID-19 Pandemic  \n",
       "5  COVID-19 Pandemic  \n",
       "6  COVID-19 Pandemic  \n",
       "7  COVID-19 Pandemic  "
      ]
     },
     "execution_count": 31,
     "metadata": {},
     "output_type": "execute_result"
    }
   ],
   "source": [
    "query_question_covid = '''\n",
    "    SELECT * FROM SchoolQuestionnaireEntries\n",
    "    WHERE Type = 'COVID-19 Pandemic';\n",
    "    '''\n",
    "df_question_covid = get_from_db(connection, query_question_covid)\n",
    "df_question_covid"
   ]
  },
  {
   "cell_type": "markdown",
   "metadata": {},
   "source": [
    "Upon reviewing the questions under the 'COVID-19 Pandemic' type, we have identified the specific question that aligns with our research objective. The question of interest is:\n",
    "\n",
    "> \"Please estimate the number of weeks during the current academic year where normal primary school operations have been affected by the COVID-19 pandemic.\"\n",
    "\n",
    "This question is crucial for our analysis as it directly addresses the impact of the COVID-19 pandemic on the duration of school closures. The unique identifier (code) for this question within the database is `ACBG19`. This code will be instrumental in querying the `SchoolQuestionnaireAnswers` table to extract the relevant responses from schools."
   ]
  },
  {
   "cell_type": "markdown",
   "metadata": {},
   "source": [
    "To discover the range of possible answers to this question, you can utilize the following SQL query. This query is designed to retrieve distinct answers from the `SchoolQuestionnaireAnswers` table for a specific question code, `ACBG19`:\n",
    "\n",
    "```sql\n",
    "SELECT DISTINCT Answer \n",
    "FROM SchoolQuestionnaireAnswers\n",
    "WHERE Code = 'ACBG19';\n",
    "```"
   ]
  },
  {
   "cell_type": "code",
   "execution_count": 32,
   "metadata": {
    "tags": []
   },
   "outputs": [
    {
     "data": {
      "text/html": [
       "<div>\n",
       "<style scoped>\n",
       "    .dataframe tbody tr th:only-of-type {\n",
       "        vertical-align: middle;\n",
       "    }\n",
       "\n",
       "    .dataframe tbody tr th {\n",
       "        vertical-align: top;\n",
       "    }\n",
       "\n",
       "    .dataframe thead th {\n",
       "        text-align: right;\n",
       "    }\n",
       "</style>\n",
       "<table border=\"1\" class=\"dataframe\">\n",
       "  <thead>\n",
       "    <tr style=\"text-align: right;\">\n",
       "      <th></th>\n",
       "      <th>answer</th>\n",
       "    </tr>\n",
       "  </thead>\n",
       "  <tbody>\n",
       "    <tr>\n",
       "      <th>0</th>\n",
       "      <td>nan</td>\n",
       "    </tr>\n",
       "    <tr>\n",
       "      <th>1</th>\n",
       "      <td>Two weeks to four weeks of instruction</td>\n",
       "    </tr>\n",
       "    <tr>\n",
       "      <th>2</th>\n",
       "      <td>Five weeks to eight weeks of instruction</td>\n",
       "    </tr>\n",
       "    <tr>\n",
       "      <th>3</th>\n",
       "      <td>Normal primary school operations have not been affected by the COVID-19 pandemic</td>\n",
       "    </tr>\n",
       "    <tr>\n",
       "      <th>4</th>\n",
       "      <td>Omitted or invalid</td>\n",
       "    </tr>\n",
       "    <tr>\n",
       "      <th>5</th>\n",
       "      <td>Less than two weeks of instruction</td>\n",
       "    </tr>\n",
       "    <tr>\n",
       "      <th>6</th>\n",
       "      <td>More than eight weeks of instruction</td>\n",
       "    </tr>\n",
       "  </tbody>\n",
       "</table>\n",
       "</div>"
      ],
      "text/plain": [
       "                                                                             answer\n",
       "0                                                                               nan\n",
       "1                                            Two weeks to four weeks of instruction\n",
       "2                                          Five weeks to eight weeks of instruction\n",
       "3  Normal primary school operations have not been affected by the COVID-19 pandemic\n",
       "4                                                                Omitted or invalid\n",
       "5                                                Less than two weeks of instruction\n",
       "6                                              More than eight weeks of instruction"
      ]
     },
     "execution_count": 32,
     "metadata": {},
     "output_type": "execute_result"
    }
   ],
   "source": [
    "query_available_answers = '''\n",
    "    SELECT DISTINCT(Answer) FROM SchoolQuestionnaireAnswers\n",
    "    WHERE Code = 'ACBG19';\n",
    "    '''\n",
    "df_available_answers = get_from_db(connection, query_available_answers)\n",
    "df_available_answers"
   ]
  },
  {
   "cell_type": "markdown",
   "metadata": {},
   "source": [
    "After analyzing the results, the closest match to \"more than eight weeks,\" as mentioned in our main question, is identified as `More than eight weeks of instruction`."
   ]
  },
  {
   "cell_type": "markdown",
   "metadata": {},
   "source": [
    "The previous SQL queries were instrumental in obtaining values for filtering our queries. However, it's now time to delve into the main components of our final query. Here's the first part which demonstrates the correct way to join tables to retrieve data that aligns with our specific interests\n",
    "\n",
    "The SQL query provided is designed to retrieve answers `More than eight weeks of instruction` to a specific question identified by the code `ACBG19` from the `SchoolQuestionnaireAnswers` table. This question pertains to the impact of the COVID-19 pandemic on school operations. The query not only fetches the answers but also includes related information from associated tables such as `SchoolQuestionnaireEntries`, `Schools`, and `Countries`. \n",
    "\n",
    "```sql\n",
    "SELECT C.Name, S.School_ID, SQA.Code, SQA.Answer FROM SchoolQuestionnaireAnswers AS SQA\n",
    "JOIN Schools AS S ON S.School_ID = SQA.School_ID\n",
    "JOIN Countries AS C ON C.Country_ID = S.Country_ID\n",
    "WHERE SQA.Code = 'ACBG19' AND SQA.Answer = 'More than eight weeks of instruction';\n",
    "```\n",
    "Here's a breakdown of the query's components:\n",
    "\n",
    "- `SELECT C.Name, S.School_ID, SQA.Code, SQA.Answer`: This line specifies the columns to be retrieved by the query. It selects the country name (`C.Name`), the school ID (`S.School_ID`), the questionnaire code (`SQA.Code`), and the corresponding answer (`SQA.Answer`). This selection aims to provide a comprehensive view of each response, including the geographical location and institutional identifier.\n",
    "\n",
    "- `FROM SchoolQuestionnaireAnswers AS SQA`: The query starts from the `SchoolQuestionnaireAnswers` table, aliased as `SQA`. This table contains the responses from various schools to the questionnaire, including the answer to the question with the code `ACBG19`.\n",
    "\n",
    "- `JOIN Schools AS S ON S.School_ID = SQA.School_ID`: The query then joins the `Schools` table (aliased as `S`) to the `SchoolQuestionnaireAnswers` table. This join is based on the `School_ID` column, which is present in both tables. This operation allows the query to include information about the schools that provided each response.\n",
    "\n",
    "- `JOIN Countries AS C ON C.Country_ID = S.Country_ID`: Next, the query joins the `Countries` table (aliased as `C`) to the `Schools` table. This join is based on the `Country_ID` column, which is present in both tables. This operation enables the inclusion of country-specific information for each school, providing a geographical context to the responses.\n",
    "\n",
    "- `WHERE SQA.Code = 'ACBG19' AND SQA.Answer = 'More than eight weeks of instruction'`: The query filters the results to only include responses to the question identified by the code `ACBG19` that specifically indicate a closure period of `More than eight weeks of instruction`. This condition ensures that the query returns data directly relevant to our question of interest.\n"
   ]
  },
  {
   "cell_type": "code",
   "execution_count": 33,
   "metadata": {
    "tags": []
   },
   "outputs": [
    {
     "data": {
      "text/html": [
       "<div>\n",
       "<style scoped>\n",
       "    .dataframe tbody tr th:only-of-type {\n",
       "        vertical-align: middle;\n",
       "    }\n",
       "\n",
       "    .dataframe tbody tr th {\n",
       "        vertical-align: top;\n",
       "    }\n",
       "\n",
       "    .dataframe thead th {\n",
       "        text-align: right;\n",
       "    }\n",
       "</style>\n",
       "<table border=\"1\" class=\"dataframe\">\n",
       "  <thead>\n",
       "    <tr style=\"text-align: right;\">\n",
       "      <th></th>\n",
       "      <th>name</th>\n",
       "      <th>school_id</th>\n",
       "      <th>code</th>\n",
       "      <th>answer</th>\n",
       "    </tr>\n",
       "  </thead>\n",
       "  <tbody>\n",
       "    <tr>\n",
       "      <th>0</th>\n",
       "      <td>British Columbia, Canada</td>\n",
       "      <td>91355088</td>\n",
       "      <td>ACBG19</td>\n",
       "      <td>More than eight weeks of instruction</td>\n",
       "    </tr>\n",
       "    <tr>\n",
       "      <th>1</th>\n",
       "      <td>British Columbia, Canada</td>\n",
       "      <td>91355096</td>\n",
       "      <td>ACBG19</td>\n",
       "      <td>More than eight weeks of instruction</td>\n",
       "    </tr>\n",
       "    <tr>\n",
       "      <th>2</th>\n",
       "      <td>British Columbia, Canada</td>\n",
       "      <td>91355123</td>\n",
       "      <td>ACBG19</td>\n",
       "      <td>More than eight weeks of instruction</td>\n",
       "    </tr>\n",
       "    <tr>\n",
       "      <th>3</th>\n",
       "      <td>British Columbia, Canada</td>\n",
       "      <td>91355124</td>\n",
       "      <td>ACBG19</td>\n",
       "      <td>More than eight weeks of instruction</td>\n",
       "    </tr>\n",
       "    <tr>\n",
       "      <th>4</th>\n",
       "      <td>British Columbia, Canada</td>\n",
       "      <td>91355184</td>\n",
       "      <td>ACBG19</td>\n",
       "      <td>More than eight weeks of instruction</td>\n",
       "    </tr>\n",
       "    <tr>\n",
       "      <th>...</th>\n",
       "      <td>...</td>\n",
       "      <td>...</td>\n",
       "      <td>...</td>\n",
       "      <td>...</td>\n",
       "    </tr>\n",
       "    <tr>\n",
       "      <th>4712</th>\n",
       "      <td>Qatar</td>\n",
       "      <td>6345073</td>\n",
       "      <td>ACBG19</td>\n",
       "      <td>More than eight weeks of instruction</td>\n",
       "    </tr>\n",
       "    <tr>\n",
       "      <th>4713</th>\n",
       "      <td>Qatar</td>\n",
       "      <td>6345074</td>\n",
       "      <td>ACBG19</td>\n",
       "      <td>More than eight weeks of instruction</td>\n",
       "    </tr>\n",
       "    <tr>\n",
       "      <th>4714</th>\n",
       "      <td>Qatar</td>\n",
       "      <td>6345075</td>\n",
       "      <td>ACBG19</td>\n",
       "      <td>More than eight weeks of instruction</td>\n",
       "    </tr>\n",
       "    <tr>\n",
       "      <th>4715</th>\n",
       "      <td>Qatar</td>\n",
       "      <td>6345081</td>\n",
       "      <td>ACBG19</td>\n",
       "      <td>More than eight weeks of instruction</td>\n",
       "    </tr>\n",
       "    <tr>\n",
       "      <th>4716</th>\n",
       "      <td>Qatar</td>\n",
       "      <td>6345084</td>\n",
       "      <td>ACBG19</td>\n",
       "      <td>More than eight weeks of instruction</td>\n",
       "    </tr>\n",
       "  </tbody>\n",
       "</table>\n",
       "<p>4717 rows × 4 columns</p>\n",
       "</div>"
      ],
      "text/plain": [
       "                          name  school_id    code  \\\n",
       "0     British Columbia, Canada   91355088  ACBG19   \n",
       "1     British Columbia, Canada   91355096  ACBG19   \n",
       "2     British Columbia, Canada   91355123  ACBG19   \n",
       "3     British Columbia, Canada   91355124  ACBG19   \n",
       "4     British Columbia, Canada   91355184  ACBG19   \n",
       "...                        ...        ...     ...   \n",
       "4712                     Qatar    6345073  ACBG19   \n",
       "4713                     Qatar    6345074  ACBG19   \n",
       "4714                     Qatar    6345075  ACBG19   \n",
       "4715                     Qatar    6345081  ACBG19   \n",
       "4716                     Qatar    6345084  ACBG19   \n",
       "\n",
       "                                    answer  \n",
       "0     More than eight weeks of instruction  \n",
       "1     More than eight weeks of instruction  \n",
       "2     More than eight weeks of instruction  \n",
       "3     More than eight weeks of instruction  \n",
       "4     More than eight weeks of instruction  \n",
       "...                                    ...  \n",
       "4712  More than eight weeks of instruction  \n",
       "4713  More than eight weeks of instruction  \n",
       "4714  More than eight weeks of instruction  \n",
       "4715  More than eight weeks of instruction  \n",
       "4716  More than eight weeks of instruction  \n",
       "\n",
       "[4717 rows x 4 columns]"
      ]
     },
     "execution_count": 33,
     "metadata": {},
     "output_type": "execute_result"
    }
   ],
   "source": [
    "query_question_answers = '''\n",
    "    SELECT C.Name, S.School_ID, SQA.Code, SQA.Answer FROM SchoolQuestionnaireAnswers AS SQA\n",
    "    JOIN Schools AS S ON S.School_ID = SQA.School_ID\n",
    "    JOIN Countries AS C ON C.Country_ID = S.Country_ID\n",
    "    WHERE SQA.Code = 'ACBG19' AND SQA.Answer = 'More than eight weeks of instruction';\n",
    "    '''\n",
    "df_question_answers = get_from_db(connection, query_question_answers)\n",
    "df_question_answers"
   ]
  },
  {
   "cell_type": "markdown",
   "metadata": {},
   "source": [
    "The table above has provided us with all the essential information needed to tackle our primary question. Yet, our analysis remains unfinished. Allow me to present the subsequent part of our query to the database."
   ]
  },
  {
   "cell_type": "markdown",
   "metadata": {},
   "source": [
    "Let's count the number of schools in each country using the following query:\n",
    "\n",
    "```sql\n",
    "SELECT C.Name, COUNT(S.School_ID) AS schools_in_country\n",
    "FROM Schools AS S\n",
    "JOIN Countries AS C ON C.Country_ID = S.Country_ID\n",
    "GROUP BY C.Name;\n",
    "```"
   ]
  },
  {
   "cell_type": "code",
   "execution_count": 34,
   "metadata": {
    "tags": []
   },
   "outputs": [
    {
     "data": {
      "text/html": [
       "<div>\n",
       "<style scoped>\n",
       "    .dataframe tbody tr th:only-of-type {\n",
       "        vertical-align: middle;\n",
       "    }\n",
       "\n",
       "    .dataframe tbody tr th {\n",
       "        vertical-align: top;\n",
       "    }\n",
       "\n",
       "    .dataframe thead th {\n",
       "        text-align: right;\n",
       "    }\n",
       "</style>\n",
       "<table border=\"1\" class=\"dataframe\">\n",
       "  <thead>\n",
       "    <tr style=\"text-align: right;\">\n",
       "      <th></th>\n",
       "      <th>name</th>\n",
       "      <th>schools_in_country</th>\n",
       "    </tr>\n",
       "  </thead>\n",
       "  <tbody>\n",
       "    <tr>\n",
       "      <th>0</th>\n",
       "      <td>Hong Kong SAR</td>\n",
       "      <td>144</td>\n",
       "    </tr>\n",
       "    <tr>\n",
       "      <th>1</th>\n",
       "      <td>Alberta, Canada</td>\n",
       "      <td>116</td>\n",
       "    </tr>\n",
       "    <tr>\n",
       "      <th>2</th>\n",
       "      <td>Italy</td>\n",
       "      <td>164</td>\n",
       "    </tr>\n",
       "    <tr>\n",
       "      <th>3</th>\n",
       "      <td>Oman</td>\n",
       "      <td>215</td>\n",
       "    </tr>\n",
       "    <tr>\n",
       "      <th>4</th>\n",
       "      <td>Czech Republic</td>\n",
       "      <td>196</td>\n",
       "    </tr>\n",
       "    <tr>\n",
       "      <th>...</th>\n",
       "      <td>...</td>\n",
       "      <td>...</td>\n",
       "    </tr>\n",
       "    <tr>\n",
       "      <th>60</th>\n",
       "      <td>Morocco</td>\n",
       "      <td>266</td>\n",
       "    </tr>\n",
       "    <tr>\n",
       "      <th>61</th>\n",
       "      <td>Quebec, Canada</td>\n",
       "      <td>112</td>\n",
       "    </tr>\n",
       "    <tr>\n",
       "      <th>62</th>\n",
       "      <td>British Columbia, Canada</td>\n",
       "      <td>179</td>\n",
       "    </tr>\n",
       "    <tr>\n",
       "      <th>63</th>\n",
       "      <td>Taiwan</td>\n",
       "      <td>184</td>\n",
       "    </tr>\n",
       "    <tr>\n",
       "      <th>64</th>\n",
       "      <td>Poland</td>\n",
       "      <td>150</td>\n",
       "    </tr>\n",
       "  </tbody>\n",
       "</table>\n",
       "<p>65 rows × 2 columns</p>\n",
       "</div>"
      ],
      "text/plain": [
       "                        name  schools_in_country\n",
       "0              Hong Kong SAR                 144\n",
       "1            Alberta, Canada                 116\n",
       "2                      Italy                 164\n",
       "3                       Oman                 215\n",
       "4             Czech Republic                 196\n",
       "..                       ...                 ...\n",
       "60                   Morocco                 266\n",
       "61            Quebec, Canada                 112\n",
       "62  British Columbia, Canada                 179\n",
       "63                    Taiwan                 184\n",
       "64                    Poland                 150\n",
       "\n",
       "[65 rows x 2 columns]"
      ]
     },
     "execution_count": 34,
     "metadata": {},
     "output_type": "execute_result"
    }
   ],
   "source": [
    "query_countries_schools = '''\n",
    "    SELECT C.Name, COUNT(S.School_ID) AS schools_in_country\n",
    "    FROM Schools AS S\n",
    "    JOIN Countries AS C ON C.Country_ID = S.Country_ID\n",
    "    GROUP BY C.Name;\n",
    "    '''\n",
    "df_countries_schools = get_from_db(connection, query_countries_schools)\n",
    "df_countries_schools"
   ]
  },
  {
   "cell_type": "markdown",
   "metadata": {},
   "source": [
    "The count of schools by country, as previously determined, will aid us in identifying whether all schools in a specific country were closed for more than eight weeks. The next step involves counting the number of schools in each country that responded with \"More than eight weeks of instruction.\"\n",
    "\n",
    "We can achieve that with that query:\n",
    "```sql\n",
    "SELECT C.Name, COUNT(DISTINCT SQA.School_ID) AS schools_in_country_morethan8\n",
    "FROM SchoolQuestionnaireEntries AS SQE\n",
    "JOIN SchoolQuestionnaireAnswers AS SQA ON SQA.Code = SQE.Code\n",
    "JOIN Schools AS S ON S.School_ID = SQA.School_ID\n",
    "JOIN Countries AS C ON C.Country_ID = S.Country_ID\n",
    "WHERE SQE.Code = 'ACBG19' AND SQA.Answer = 'More than eight weeks of instruction'\n",
    "GROUP BY C.Name\n",
    "```"
   ]
  },
  {
   "cell_type": "code",
   "execution_count": 35,
   "metadata": {
    "tags": []
   },
   "outputs": [
    {
     "data": {
      "text/html": [
       "<div>\n",
       "<style scoped>\n",
       "    .dataframe tbody tr th:only-of-type {\n",
       "        vertical-align: middle;\n",
       "    }\n",
       "\n",
       "    .dataframe tbody tr th {\n",
       "        vertical-align: top;\n",
       "    }\n",
       "\n",
       "    .dataframe thead th {\n",
       "        text-align: right;\n",
       "    }\n",
       "</style>\n",
       "<table border=\"1\" class=\"dataframe\">\n",
       "  <thead>\n",
       "    <tr style=\"text-align: right;\">\n",
       "      <th></th>\n",
       "      <th>name</th>\n",
       "      <th>schools_in_country_morethan8</th>\n",
       "    </tr>\n",
       "  </thead>\n",
       "  <tbody>\n",
       "    <tr>\n",
       "      <th>0</th>\n",
       "      <td>Abu Dhabi, United Arab Emirates</td>\n",
       "      <td>55</td>\n",
       "    </tr>\n",
       "    <tr>\n",
       "      <th>1</th>\n",
       "      <td>Albania</td>\n",
       "      <td>21</td>\n",
       "    </tr>\n",
       "    <tr>\n",
       "      <th>2</th>\n",
       "      <td>Alberta, Canada</td>\n",
       "      <td>36</td>\n",
       "    </tr>\n",
       "    <tr>\n",
       "      <th>3</th>\n",
       "      <td>Australia</td>\n",
       "      <td>87</td>\n",
       "    </tr>\n",
       "    <tr>\n",
       "      <th>4</th>\n",
       "      <td>Austria</td>\n",
       "      <td>110</td>\n",
       "    </tr>\n",
       "    <tr>\n",
       "      <th>...</th>\n",
       "      <td>...</td>\n",
       "      <td>...</td>\n",
       "    </tr>\n",
       "    <tr>\n",
       "      <th>59</th>\n",
       "      <td>Turkiye</td>\n",
       "      <td>155</td>\n",
       "    </tr>\n",
       "    <tr>\n",
       "      <th>60</th>\n",
       "      <td>United Arab Emirates</td>\n",
       "      <td>113</td>\n",
       "    </tr>\n",
       "    <tr>\n",
       "      <th>61</th>\n",
       "      <td>United Kingdom</td>\n",
       "      <td>59</td>\n",
       "    </tr>\n",
       "    <tr>\n",
       "      <th>62</th>\n",
       "      <td>United States</td>\n",
       "      <td>50</td>\n",
       "    </tr>\n",
       "    <tr>\n",
       "      <th>63</th>\n",
       "      <td>Uzbekistan</td>\n",
       "      <td>39</td>\n",
       "    </tr>\n",
       "  </tbody>\n",
       "</table>\n",
       "<p>64 rows × 2 columns</p>\n",
       "</div>"
      ],
      "text/plain": [
       "                               name  schools_in_country_morethan8\n",
       "0   Abu Dhabi, United Arab Emirates                            55\n",
       "1                           Albania                            21\n",
       "2                   Alberta, Canada                            36\n",
       "3                         Australia                            87\n",
       "4                           Austria                           110\n",
       "..                              ...                           ...\n",
       "59                          Turkiye                           155\n",
       "60             United Arab Emirates                           113\n",
       "61                   United Kingdom                            59\n",
       "62                    United States                            50\n",
       "63                       Uzbekistan                            39\n",
       "\n",
       "[64 rows x 2 columns]"
      ]
     },
     "execution_count": 35,
     "metadata": {},
     "output_type": "execute_result"
    }
   ],
   "source": [
    "query_countries_schools_morethan8 = '''\n",
    "    SELECT C.Name, COUNT(DISTINCT SQA.School_ID) AS schools_in_country_morethan8\n",
    "    FROM SchoolQuestionnaireEntries AS SQE\n",
    "    JOIN SchoolQuestionnaireAnswers AS SQA ON SQA.Code = SQE.Code\n",
    "    JOIN Schools AS S ON S.School_ID = SQA.School_ID\n",
    "    JOIN Countries AS C ON C.Country_ID = S.Country_ID\n",
    "    WHERE SQE.Code = 'ACBG19' AND SQA.Answer = 'More than eight weeks of instruction'\n",
    "    GROUP BY C.Name\n",
    "    '''\n",
    "df_countries_schools_morethan8 = get_from_db(connection, query_countries_schools_morethan8)\n",
    "df_countries_schools_morethan8"
   ]
  },
  {
   "cell_type": "markdown",
   "metadata": {},
   "source": [
    "In the final step we just need to count percentage of schools in countries which answered \"More than eight weeks of instruction\", by dividing values calculated in two previous sql queries which are `schools_in_country_more_than8` and `schools_in_country`.\n",
    "Two not speed up thin I will just show you complete query for retrieving answer for the question:\n",
    "> Which country had all schools closed for more than eight weeks?\n",
    "\n",
    "```sql\n",
    "    WITH schools_all AS (\n",
    "    SELECT C.Name, COUNT(S.School_ID) AS schools_in_country\n",
    "    FROM Schools AS S\n",
    "    JOIN Countries AS C ON C.Country_ID = S.Country_ID\n",
    "    GROUP BY C.Name\n",
    "    ),\n",
    "    schools_closed AS (\n",
    "        SELECT C.Name, COUNT(DISTINCT SQA.School_ID) AS schools_in_country_morethan8\n",
    "        FROM SchoolQuestionnaireEntries AS SQE\n",
    "        JOIN SchoolQuestionnaireAnswers AS SQA ON SQA.Code = SQE.Code\n",
    "        JOIN Schools AS S ON S.School_ID = SQA.School_ID\n",
    "        JOIN Countries AS C ON C.Country_ID = S.Country_ID\n",
    "        WHERE SQE.Code = 'ACBG19' AND SQA.Answer = 'More than eight weeks of instruction'\n",
    "        GROUP BY C.Name\n",
    "    ),\n",
    "    percentage_calc AS (\n",
    "        SELECT A.Name, schools_in_country_morethan8 / schools_in_country::float * 100 AS percentage\n",
    "        FROM schools_all A\n",
    "        JOIN schools_closed CL ON A.Name = CL.Name\n",
    "    )\n",
    "    SELECT *\n",
    "    FROM percentage_calc\n",
    "    WHERE percentage = 100;\n",
    "```\n",
    "\n",
    "Here's a breakdown of the new query's components:\n",
    "\n",
    "The `percentage_calc` Common Table Expression (CTE) calculates the percentage of schools in each country that were closed for more than eight weeks. It does this by dividing the count of distinct schools that answered \"More than eight weeks of instruction\" (`schools_in_country_morethan8`) by the total count of schools in the country (`schools_in_country`). This result is then multiplied by 100 to convert it into a percentage format. The calculation involves a join between two previously defined CTEs: `schools_all` and `schools_closed`. The join is made on the country name (`A.Name = CL.Name`), ensuring that the calculation is done per country.\n",
    "\n",
    "The final `SELECT` statement retrieves all records from the `percentage_calc` CTE where the calculated percentage equals 100. This effectively filters the results to only include countries where 100% of the schools were reported to be closed for more than eight weeks, answering the question: \"Which country had all schools closed for more than eight weeks?\""
   ]
  },
  {
   "cell_type": "code",
   "execution_count": 36,
   "metadata": {
    "tags": []
   },
   "outputs": [
    {
     "data": {
      "text/html": [
       "<div>\n",
       "<style scoped>\n",
       "    .dataframe tbody tr th:only-of-type {\n",
       "        vertical-align: middle;\n",
       "    }\n",
       "\n",
       "    .dataframe tbody tr th {\n",
       "        vertical-align: top;\n",
       "    }\n",
       "\n",
       "    .dataframe thead th {\n",
       "        text-align: right;\n",
       "    }\n",
       "</style>\n",
       "<table border=\"1\" class=\"dataframe\">\n",
       "  <thead>\n",
       "    <tr style=\"text-align: right;\">\n",
       "      <th></th>\n",
       "      <th>name</th>\n",
       "      <th>percentage</th>\n",
       "    </tr>\n",
       "  </thead>\n",
       "  <tbody>\n",
       "    <tr>\n",
       "      <th>0</th>\n",
       "      <td>Czech Republic</td>\n",
       "      <td>100.0</td>\n",
       "    </tr>\n",
       "  </tbody>\n",
       "</table>\n",
       "</div>"
      ],
      "text/plain": [
       "             name  percentage\n",
       "0  Czech Republic       100.0"
      ]
     },
     "execution_count": 36,
     "metadata": {},
     "output_type": "execute_result"
    }
   ],
   "source": [
    "query = '''\n",
    "    WITH schools_all AS (\n",
    "    SELECT C.Name, COUNT(S.School_ID) AS schools_in_country\n",
    "    FROM Schools AS S\n",
    "    JOIN Countries AS C ON C.Country_ID = S.Country_ID\n",
    "    GROUP BY C.Name\n",
    "    ),\n",
    "    schools_closed AS (\n",
    "        SELECT C.Name, COUNT(DISTINCT SQA.School_ID) AS schools_in_country_morethan8\n",
    "        FROM SchoolQuestionnaireEntries AS SQE\n",
    "        JOIN SchoolQuestionnaireAnswers AS SQA ON SQA.Code = SQE.Code\n",
    "        JOIN Schools AS S ON S.School_ID = SQA.School_ID\n",
    "        JOIN Countries AS C ON C.Country_ID = S.Country_ID\n",
    "        WHERE SQE.Code = 'ACBG19' AND SQA.Answer = 'More than eight weeks of instruction'\n",
    "        GROUP BY C.Name\n",
    "    ),\n",
    "    percentage_calc AS (\n",
    "        SELECT A.Name, schools_in_country_morethan8 / schools_in_country::float * 100 AS percentage\n",
    "        FROM schools_all A\n",
    "        JOIN schools_closed CL ON A.Name = CL.Name\n",
    "    )\n",
    "    SELECT *\n",
    "    FROM percentage_calc\n",
    "    WHERE percentage = 100;\n",
    "    '''\n",
    "df = get_from_db(connection, query)\n",
    "df"
   ]
  },
  {
   "cell_type": "markdown",
   "metadata": {},
   "source": [
    "The results reveal that in the Czech Republic, all schools were closed for more than eight weeks, delivering the precise answer we were seeking. \n",
    "\n",
    "This outcome underscores that arriving at such a response was neither simple nor direct but necessitated a thorough analysis. Such depth of investigation is feasible only with a comprehensive understanding of the database contents, highlighting the importance of familiarity with the data at hand. This case exemplifies how detailed data exploration and adept query formulation can unveil critical insights, demonstrating the value of in-depth data analysis in extracting meaningful information."
   ]
  },
  {
   "cell_type": "markdown",
   "metadata": {},
   "source": [
    "### Key insights\n",
    "\n",
    "- **Vast Amounts of Data**: The presence of tables with millions of records indicates a substantial volume of data within the database. This richness allows for in-depth analysis, but it also emphasizes the importance of understanding the database's structure and content. Familiarize yourself with the data, either through this notebook or by visiting the [PIRLS 2021 website](https://pirls2021.org/) to make the most out of the available information.\n",
    "\n",
    "- **Query Construction Skills**: Developing the skill to formulate precise queries tailored to specific questions is vital for effective data analysis. Crafting accurate and efficient SQL queries is essential not only for extracting meaningful insights but also for determining whether your solution/Large Language Model (LLM) is producing reliable results. This approach ensures you have a clear understanding of whether the model is hallucinating, thereby assessing its trustworthiness.\n",
    "\n",
    "- **Data Understanding Tools**: Enhancing your understanding of the data can significantly benefit from tools like Data Wrangler, or by employing visualization libraries such as seaborn and matplotlib. These tools and libraries offer powerful ways to manipulate, explore, and visualize data, making complex datasets more accessible and insights more apparent.\n",
    "\n",
    "By dedicating time to comprehend the database, honing your query construction skills, and leveraging data manipulation and visualization tools, you can unlock valuable insights from the data and drive more informed decision-making.\n"
   ]
  },
  {
   "cell_type": "markdown",
   "metadata": {},
   "source": [
    "### Exercises\n",
    "\n",
    "Now it's time for you to put your skills to the test by constructing SQL queries tailored to specific questions. Below, you'll find three example questions. They are organized in order of increasing complexity, from the simplest to the most challenging, to help you gradually build your query development skills.\n",
    "\n",
    "*This space is designed for exploration and creativity. You are encouraged to add new code cells, create various graphs, and experiment with different data analysis techniques. Dive deep into the data, uncover hidden insights, and showcase your findings in innovative ways. This is your playground for data understanding and visualization.*"
   ]
  },
  {
   "cell_type": "markdown",
   "metadata": {},
   "source": [
    "#### 1. What was Egypt's average score for fourth graders in reading?"
   ]
  },
  {
   "cell_type": "code",
   "execution_count": null,
   "metadata": {},
   "outputs": [],
   "source": [
    "query_question1 = '''\n",
    "        Here is the place for your sql query\n",
    "'''\n",
    "# Uncomment the lines below to check if your query is working properly\n",
    "\n",
    "# question1_df = get_from_db(connection, query_question1)\n",
    "# question1_df"
   ]
  },
  {
   "cell_type": "markdown",
   "metadata": {},
   "source": [
    "#### 2. What percentage of students in Germany met the high reading standards?"
   ]
  },
  {
   "cell_type": "code",
   "execution_count": null,
   "metadata": {},
   "outputs": [],
   "source": [
    "query_question2 = '''\n",
    "        Here is the place for your sql query\n",
    "'''\n",
    "# Uncomment the lines below to check if your query is working properly\n",
    "\n",
    "# question2_df = get_from_db(connection, query_question2)\n",
    "# question2_df"
   ]
  },
  {
   "cell_type": "markdown",
   "metadata": {},
   "source": [
    "#### 3. How many countries reported that at least 85% of their students reached the Low International Benchmark?"
   ]
  },
  {
   "cell_type": "code",
   "execution_count": null,
   "metadata": {},
   "outputs": [],
   "source": [
    "query_question3 = '''\n",
    "        Here is the place for your sql query\n",
    "'''\n",
    "# Uncomment the lines below to check if your query is working properly\n",
    "\n",
    "# question3_df = get_from_db(connection, query_question3)\n",
    "# question3_df"
   ]
  },
  {
   "cell_type": "markdown",
   "metadata": {},
   "source": [
    "## Appendix"
   ]
  },
  {
   "cell_type": "markdown",
   "metadata": {},
   "source": [
    "### VS Code\n",
    "\n",
    "If you prefer using VS Code over SageMaker, there's a bonus extension for data manipulation that I highly recommend to install. While it's entirely optional, I strongly encourage you to explore this extension on your own."
   ]
  },
  {
   "cell_type": "markdown",
   "metadata": {},
   "source": [
    "#### Data Wrangler"
   ]
  },
  {
   "cell_type": "markdown",
   "metadata": {},
   "source": [
    "I'd like to introduce you to a fantastic VS Code extension that significantly enhances data analysis. This extension offers a comprehensive user interface for data viewing and analysis, presents detailed column statistics, provides visualizations, and automatically generates Pandas code during data cleaning and transformation processes."
   ]
  },
  {
   "cell_type": "markdown",
   "metadata": {},
   "source": [
    "To install, simply click on the `Extensions` icon in the left sidebar, search for `Data Wrangler`, and then click `Install`. That's all there is to it! For those interested in exploring this tool, detailed documentation on how to utilize Data Wrangler can be found [here](https://code.visualstudio.com/docs/datascience/data-wrangler)."
   ]
  },
  {
   "cell_type": "markdown",
   "metadata": {},
   "source": [
    "![title](../images/tutorial_2_data_wrangler.png)"
   ]
  },
  {
   "cell_type": "markdown",
   "metadata": {},
   "source": [
    "### More example questions with sql queries"
   ]
  },
  {
   "cell_type": "markdown",
   "metadata": {},
   "source": [
    "#### 1. Which country had an average reading score between 549 and 550 for its students?\n"
   ]
  },
  {
   "cell_type": "code",
   "execution_count": null,
   "metadata": {},
   "outputs": [],
   "source": [
    "query1 = '''\n",
    "    SELECT C.Name AS Country\n",
    "    FROM Students as S\n",
    "    JOIN Countries as C ON S.Country_ID = C.Country_ID\n",
    "    JOIN StudentScoreResults SSR ON S.Student_ID = SSR.Student_ID\n",
    "    WHERE SSR.Code = 'ASRREA_avg'\n",
    "    GROUP BY C.Name\n",
    "    HAVING AVG(ssr.Score) BETWEEN 549 AND 550;\n",
    "'''\n",
    "\n",
    "df1 = get_from_db(connection, query1)\n",
    "df1"
   ]
  },
  {
   "cell_type": "markdown",
   "metadata": {},
   "source": [
    "#### 2. What percentage of students in the UAE met the minimum reading standards?\n"
   ]
  },
  {
   "cell_type": "code",
   "execution_count": null,
   "metadata": {},
   "outputs": [],
   "source": [
    "query2 = '''\n",
    "    WITH benchmark_score AS (\n",
    "        SELECT Score FROM Benchmarks\n",
    "        WHERE Name = 'Low International Benchmark'\n",
    "    )\n",
    "    SELECT SUM(CASE WHEN SSR.Score >= bs.Score THEN 1 ELSE 0 END) / COUNT(*)::float as percentage\n",
    "    FROM Students AS S\n",
    "    JOIN Countries AS C ON C.Country_ID = S.Country_ID\n",
    "    JOIN StudentScoreResults AS SSR ON SSR.Student_ID = S.Student_ID\n",
    "    CROSS JOIN benchmark_score AS bs\n",
    "    WHERE C.Name LIKE '%United Arab Emirates%' AND SSR.Code = 'ASRREA_avg'\n",
    "'''\n",
    "\n",
    "df2 = get_from_db(connection, query2)\n",
    "df2"
   ]
  },
  {
   "cell_type": "markdown",
   "metadata": {},
   "source": [
    "#### 3. What was Turkey's average score for fourth graders in reading?"
   ]
  },
  {
   "cell_type": "code",
   "execution_count": 12,
   "metadata": {},
   "outputs": [
    {
     "data": {
      "text/html": [
       "<div>\n",
       "<style scoped>\n",
       "    .dataframe tbody tr th:only-of-type {\n",
       "        vertical-align: middle;\n",
       "    }\n",
       "\n",
       "    .dataframe tbody tr th {\n",
       "        vertical-align: top;\n",
       "    }\n",
       "\n",
       "    .dataframe thead th {\n",
       "        text-align: right;\n",
       "    }\n",
       "</style>\n",
       "<table border=\"1\" class=\"dataframe\">\n",
       "  <thead>\n",
       "    <tr style=\"text-align: right;\">\n",
       "      <th></th>\n",
       "      <th>name</th>\n",
       "      <th>avg</th>\n",
       "    </tr>\n",
       "  </thead>\n",
       "  <tbody>\n",
       "    <tr>\n",
       "      <th>0</th>\n",
       "      <td>Turkiye</td>\n",
       "      <td>502.732337</td>\n",
       "    </tr>\n",
       "  </tbody>\n",
       "</table>\n",
       "</div>"
      ],
      "text/plain": [
       "      name         avg\n",
       "0  Turkiye  502.732337"
      ]
     },
     "execution_count": 12,
     "metadata": {},
     "output_type": "execute_result"
    }
   ],
   "source": [
    "query3 = '''\n",
    "    SELECT C.Name, AVG(SSR.score)\n",
    "    FROM Students AS S\n",
    "    JOIN Countries AS C ON C.Country_ID = S.Country_ID\n",
    "    JOIN StudentScoreResults AS SSR ON SSR.Student_ID = S.Student_ID\n",
    "    WHERE SSR.Code = 'ASRREA_avg' AND C.Name = 'Turkiye'\n",
    "    GROUP BY C.Name\n",
    "'''\n",
    "\n",
    "df3 = get_from_db(connection, query3)\n",
    "df3"
   ]
  },
  {
   "cell_type": "markdown",
   "metadata": {},
   "source": [
    "#### 4. In which country did the most students participate in the survey?"
   ]
  },
  {
   "cell_type": "code",
   "execution_count": null,
   "metadata": {},
   "outputs": [],
   "source": [
    "query4 = '''\n",
    "    SELECT C.Name, COUNT(*)\n",
    "    FROM Students AS S\n",
    "    JOIN Countries AS C ON C.Country_ID = S.Country_ID\n",
    "    GROUP BY C.Name\n",
    "    ORDER BY 1\n",
    "    LIMIT 1\n",
    "'''\n",
    "\n",
    "df4 = get_from_db(connection, query4)\n",
    "df4"
   ]
  },
  {
   "cell_type": "markdown",
   "metadata": {},
   "source": [
    "#### 5. How do the reading skills of countries in the Middle East compare to each other? Can you list them starting with the best down to the worst?"
   ]
  },
  {
   "cell_type": "code",
   "execution_count": null,
   "metadata": {},
   "outputs": [],
   "source": [
    "query5 = '''\n",
    "    SELECT C.name, AVG(SSR.Score)\n",
    "    FROM Students AS S\n",
    "    JOIN Countries AS C ON C.Country_ID = S.Country_ID\n",
    "    JOIN StudentScoreResults AS SSR ON SSR.Student_ID = S.Student_ID\n",
    "    WHERE SSR.Code = 'ASRREA_avg' AND C.Name IN (\n",
    "        'Dubai, United Arab Emirates',\n",
    "        'Israel',\n",
    "        'Qatar',\n",
    "        'Bahrain',\n",
    "        'United Arab Emirates',\n",
    "        'Saudi Arabia',\n",
    "        'Abu Dhabi, United Arab Emirates',\n",
    "        'Oman',\n",
    "        'Iran, Islamic Rep. of',\n",
    "        'Jordan'\n",
    "    )\n",
    "    GROUP BY C.Name\n",
    "    ORDER BY 2 DESC\n",
    "'''\n",
    "\n",
    "df5 = get_from_db(connection, query5)\n",
    "df5"
   ]
  },
  {
   "cell_type": "markdown",
   "metadata": {},
   "source": [
    "#### 6. What percentage of students in Egypt reached the Low International Benchmark?"
   ]
  },
  {
   "cell_type": "code",
   "execution_count": null,
   "metadata": {},
   "outputs": [],
   "source": [
    "query6 = '''\n",
    "    WITH benchmark_score AS (\n",
    "        SELECT Score FROM Benchmarks\n",
    "        WHERE Name = 'Low International Benchmark'\n",
    "    )\n",
    "    SELECT SUM(CASE WHEN SSR.score >= bs.Score THEN 1 ELSE 0 END) / COUNT(*)::float as percentage\n",
    "    FROM Students AS S\n",
    "    JOIN Countries AS C ON C.Country_ID = S.Country_ID\n",
    "    JOIN StudentScoreResults AS SSR ON SSR.Student_ID = S.Student_ID\n",
    "    CROSS JOIN benchmark_score AS bs\n",
    "    WHERE C.Name = 'Egypt' AND SSR.Code = 'ASRREA_avg'\n",
    "'''\n",
    "\n",
    "df6 = get_from_db(connection, query6)\n",
    "df6"
   ]
  },
  {
   "cell_type": "markdown",
   "metadata": {},
   "source": [
    "#### 7. What is the total number of students who took part in surveys in France?"
   ]
  },
  {
   "cell_type": "code",
   "execution_count": null,
   "metadata": {},
   "outputs": [],
   "source": [
    "query7 = '''\n",
    "    SELECT COUNT(DISTINCT S.Student_ID)\n",
    "    FROM students AS S\n",
    "    JOIN countries AS C ON C.Country_ID = S.Country_ID\n",
    "    WHERE C.Name = 'France';\n",
    "'''\n",
    "\n",
    "df7 = get_from_db(connection, query7)\n",
    "df7"
   ]
  },
  {
   "cell_type": "markdown",
   "metadata": {},
   "source": [
    "## Closing connection to database"
   ]
  },
  {
   "cell_type": "code",
   "execution_count": 14,
   "metadata": {
    "tags": []
   },
   "outputs": [
    {
     "ename": "InterfaceError",
     "evalue": "connection already closed",
     "output_type": "error",
     "traceback": [
      "\u001b[1;31m---------------------------------------------------------------------------\u001b[0m",
      "\u001b[1;31mInterfaceError\u001b[0m                            Traceback (most recent call last)",
      "Input \u001b[1;32mIn [14]\u001b[0m, in \u001b[0;36m<cell line: 2>\u001b[1;34m()\u001b[0m\n\u001b[0;32m      1\u001b[0m response \u001b[38;5;241m=\u001b[39m \u001b[38;5;28minput\u001b[39m(\u001b[38;5;124m'\u001b[39m\u001b[38;5;124mAre you sure you want to close the connection? [Y/N]\u001b[39m\u001b[38;5;124m'\u001b[39m)\u001b[38;5;241m.\u001b[39mstrip()\u001b[38;5;241m.\u001b[39mlower()\n\u001b[0;32m      2\u001b[0m \u001b[38;5;28;01mif\u001b[39;00m response \u001b[38;5;241m==\u001b[39m \u001b[38;5;124m'\u001b[39m\u001b[38;5;124my\u001b[39m\u001b[38;5;124m'\u001b[39m:\n\u001b[1;32m----> 3\u001b[0m     \u001b[38;5;28;01mwith\u001b[39;00m connection:\n\u001b[0;32m      4\u001b[0m         connection\u001b[38;5;241m.\u001b[39mclose()\n",
      "\u001b[1;31mInterfaceError\u001b[0m: connection already closed"
     ]
    }
   ],
   "source": [
    "response = input('Are you sure you want to close the connection? [Y/N]').strip().lower()\n",
    "if response == 'y':\n",
    "    with connection:\n",
    "        connection.close()"
   ]
  },
  {
   "cell_type": "code",
   "execution_count": null,
   "metadata": {},
   "outputs": [],
   "source": []
  }
 ],
 "metadata": {
  "kernelspec": {
   "display_name": "Python 3 (ipykernel)",
   "language": "python",
   "name": "python3"
  },
  "language_info": {
   "codemirror_mode": {
    "name": "ipython",
    "version": 3
   },
   "file_extension": ".py",
   "mimetype": "text/x-python",
   "name": "python",
   "nbconvert_exporter": "python",
   "pygments_lexer": "ipython3",
   "version": "3.9.18"
  }
 },
 "nbformat": 4,
 "nbformat_minor": 4
}
